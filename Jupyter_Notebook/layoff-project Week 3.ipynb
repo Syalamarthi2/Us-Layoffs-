{
 "cells": [
  {
   "cell_type": "code",
   "execution_count": 1,
   "metadata": {
    "colab": {
     "base_uri": "https://localhost:8080/",
     "height": 452
    },
    "id": "Tj7g6R73SQpW",
    "outputId": "18cbf171-fe89-46fb-d648-27b1ecf4fdc2",
    "trusted": true
   },
   "outputs": [
    {
     "data": {
      "text/html": [
       "<div>\n",
       "<style scoped>\n",
       "    .dataframe tbody tr th:only-of-type {\n",
       "        vertical-align: middle;\n",
       "    }\n",
       "\n",
       "    .dataframe tbody tr th {\n",
       "        vertical-align: top;\n",
       "    }\n",
       "\n",
       "    .dataframe thead th {\n",
       "        text-align: right;\n",
       "    }\n",
       "</style>\n",
       "<table border=\"1\" class=\"dataframe\">\n",
       "  <thead>\n",
       "    <tr style=\"text-align: right;\">\n",
       "      <th></th>\n",
       "      <th>Record Number</th>\n",
       "      <th>Fiscal Year</th>\n",
       "      <th>Department Name</th>\n",
       "      <th>Sub-Unit of Department</th>\n",
       "      <th>EEO Category Name</th>\n",
       "      <th>Reason</th>\n",
       "      <th>Employee Status</th>\n",
       "      <th>Pay Plan</th>\n",
       "      <th>Pay Grade</th>\n",
       "      <th>Classification Title</th>\n",
       "      <th>Separation Date</th>\n",
       "      <th>Pay Period End Date</th>\n",
       "      <th>Current Fiscal Year</th>\n",
       "    </tr>\n",
       "  </thead>\n",
       "  <tbody>\n",
       "    <tr>\n",
       "      <th>0</th>\n",
       "      <td>12647</td>\n",
       "      <td>2013</td>\n",
       "      <td>Administrative Services, Department of</td>\n",
       "      <td>NaN</td>\n",
       "      <td>Skilled Craft</td>\n",
       "      <td>Involuntary Dismissal</td>\n",
       "      <td>Permanent (Merit)</td>\n",
       "      <td>014</td>\n",
       "      <td>21+13.5%</td>\n",
       "      <td>PAINTER 2</td>\n",
       "      <td>06/22/2012</td>\n",
       "      <td>07/05/2012</td>\n",
       "      <td>False</td>\n",
       "    </tr>\n",
       "    <tr>\n",
       "      <th>1</th>\n",
       "      <td>12648</td>\n",
       "      <td>2013</td>\n",
       "      <td>Commerce, Department of</td>\n",
       "      <td>Insurance Division</td>\n",
       "      <td>Professional</td>\n",
       "      <td>Retirement</td>\n",
       "      <td>Permanent (Merit)</td>\n",
       "      <td>014</td>\n",
       "      <td>29</td>\n",
       "      <td>COMPLIANCE OFFICER 1</td>\n",
       "      <td>06/22/2012</td>\n",
       "      <td>07/05/2012</td>\n",
       "      <td>False</td>\n",
       "    </tr>\n",
       "    <tr>\n",
       "      <th>2</th>\n",
       "      <td>12649</td>\n",
       "      <td>2013</td>\n",
       "      <td>Corrections, Department of</td>\n",
       "      <td>Oakdale</td>\n",
       "      <td>Protective Services - Sworn</td>\n",
       "      <td>Retirement</td>\n",
       "      <td>Permanent (Merit)</td>\n",
       "      <td>014</td>\n",
       "      <td>23</td>\n",
       "      <td>CORRECTIONAL OFFICER</td>\n",
       "      <td>06/22/2012</td>\n",
       "      <td>07/05/2012</td>\n",
       "      <td>False</td>\n",
       "    </tr>\n",
       "    <tr>\n",
       "      <th>3</th>\n",
       "      <td>12650</td>\n",
       "      <td>2013</td>\n",
       "      <td>Education, Department of</td>\n",
       "      <td>Vocational Rehabilitation</td>\n",
       "      <td>Official/Administrator</td>\n",
       "      <td>Retirement</td>\n",
       "      <td>Permanent (Merit)</td>\n",
       "      <td>000</td>\n",
       "      <td>29</td>\n",
       "      <td>EXEC OFF 1</td>\n",
       "      <td>06/22/2012</td>\n",
       "      <td>07/05/2012</td>\n",
       "      <td>False</td>\n",
       "    </tr>\n",
       "    <tr>\n",
       "      <th>4</th>\n",
       "      <td>12651</td>\n",
       "      <td>2013</td>\n",
       "      <td>Iowa Workforce Development</td>\n",
       "      <td>NaN</td>\n",
       "      <td>Professional</td>\n",
       "      <td>Retirement</td>\n",
       "      <td>Permanent (Merit)</td>\n",
       "      <td>014</td>\n",
       "      <td>30</td>\n",
       "      <td>MANAGEMENT ANALYST 3</td>\n",
       "      <td>06/22/2012</td>\n",
       "      <td>07/05/2012</td>\n",
       "      <td>False</td>\n",
       "    </tr>\n",
       "  </tbody>\n",
       "</table>\n",
       "</div>"
      ],
      "text/plain": [
       "   Record Number  Fiscal Year                         Department Name  \\\n",
       "0          12647         2013  Administrative Services, Department of   \n",
       "1          12648         2013                 Commerce, Department of   \n",
       "2          12649         2013              Corrections, Department of   \n",
       "3          12650         2013                Education, Department of   \n",
       "4          12651         2013              Iowa Workforce Development   \n",
       "\n",
       "      Sub-Unit of Department            EEO Category Name  \\\n",
       "0                        NaN                Skilled Craft   \n",
       "1         Insurance Division                 Professional   \n",
       "2                    Oakdale  Protective Services - Sworn   \n",
       "3  Vocational Rehabilitation       Official/Administrator   \n",
       "4                        NaN                 Professional   \n",
       "\n",
       "                  Reason    Employee Status Pay Plan Pay Grade  \\\n",
       "0  Involuntary Dismissal  Permanent (Merit)      014  21+13.5%   \n",
       "1             Retirement  Permanent (Merit)      014        29   \n",
       "2             Retirement  Permanent (Merit)      014        23   \n",
       "3             Retirement  Permanent (Merit)      000        29   \n",
       "4             Retirement  Permanent (Merit)      014        30   \n",
       "\n",
       "   Classification Title Separation Date Pay Period End Date  \\\n",
       "0             PAINTER 2      06/22/2012          07/05/2012   \n",
       "1  COMPLIANCE OFFICER 1      06/22/2012          07/05/2012   \n",
       "2  CORRECTIONAL OFFICER      06/22/2012          07/05/2012   \n",
       "3            EXEC OFF 1      06/22/2012          07/05/2012   \n",
       "4  MANAGEMENT ANALYST 3      06/22/2012          07/05/2012   \n",
       "\n",
       "   Current Fiscal Year  \n",
       "0                False  \n",
       "1                False  \n",
       "2                False  \n",
       "3                False  \n",
       "4                False  "
      ]
     },
     "execution_count": 1,
     "metadata": {},
     "output_type": "execute_result"
    }
   ],
   "source": [
    "import pandas as pd\n",
    "import numpy as np\n",
    "from collections import Counter\n",
    "from sklearn.impute import SimpleImputer\n",
    "from sklearn.preprocessing import OneHotEncoder, LabelEncoder\n",
    "from imblearn.over_sampling import SMOTE\n",
    "\n",
    "# Load the dataset\n",
    "df = pd.read_csv(\"E:/assignments/st28629/US_LayOffs/US_LayOffs/Dataset/Iowa_Executive_Branch_Voluntary_and_Involuntary_Employment_Separations.csv\")\n",
    "df.head()"
   ]
  },
  {
   "cell_type": "code",
   "execution_count": 2,
   "metadata": {
    "colab": {
     "base_uri": "https://localhost:8080/"
    },
    "id": "MqLgBIJOSQlq",
    "outputId": "4b1ede76-6e75-423a-ede9-c7491d8f623d",
    "trusted": true
   },
   "outputs": [
    {
     "name": "stdout",
     "output_type": "stream",
     "text": [
      "<class 'pandas.core.frame.DataFrame'>\n",
      "RangeIndex: 14499 entries, 0 to 14498\n",
      "Data columns (total 13 columns):\n",
      " #   Column                  Non-Null Count  Dtype \n",
      "---  ------                  --------------  ----- \n",
      " 0   Record Number           14499 non-null  int64 \n",
      " 1   Fiscal Year             14499 non-null  int64 \n",
      " 2   Department Name         14499 non-null  object\n",
      " 3   Sub-Unit of Department  8312 non-null   object\n",
      " 4   EEO Category Name       14454 non-null  object\n",
      " 5   Reason                  14499 non-null  object\n",
      " 6   Employee Status         14499 non-null  object\n",
      " 7   Pay Plan                14454 non-null  object\n",
      " 8   Pay Grade               14454 non-null  object\n",
      " 9   Classification Title    14454 non-null  object\n",
      " 10  Separation Date         14499 non-null  object\n",
      " 11  Pay Period End Date     14499 non-null  object\n",
      " 12  Current Fiscal Year     14499 non-null  bool  \n",
      "dtypes: bool(1), int64(2), object(10)\n",
      "memory usage: 1.3+ MB\n"
     ]
    }
   ],
   "source": [
    "df.info()"
   ]
  },
  {
   "cell_type": "code",
   "execution_count": 3,
   "metadata": {
    "colab": {
     "base_uri": "https://localhost:8080/",
     "height": 300
    },
    "id": "5sh_knwmSmOt",
    "outputId": "be36c591-fd68-4cd0-9979-908983fccbc1",
    "trusted": true
   },
   "outputs": [
    {
     "data": {
      "text/html": [
       "<div>\n",
       "<style scoped>\n",
       "    .dataframe tbody tr th:only-of-type {\n",
       "        vertical-align: middle;\n",
       "    }\n",
       "\n",
       "    .dataframe tbody tr th {\n",
       "        vertical-align: top;\n",
       "    }\n",
       "\n",
       "    .dataframe thead th {\n",
       "        text-align: right;\n",
       "    }\n",
       "</style>\n",
       "<table border=\"1\" class=\"dataframe\">\n",
       "  <thead>\n",
       "    <tr style=\"text-align: right;\">\n",
       "      <th></th>\n",
       "      <th>Record Number</th>\n",
       "      <th>Fiscal Year</th>\n",
       "    </tr>\n",
       "  </thead>\n",
       "  <tbody>\n",
       "    <tr>\n",
       "      <th>count</th>\n",
       "      <td>14499.000000</td>\n",
       "      <td>14499.000000</td>\n",
       "    </tr>\n",
       "    <tr>\n",
       "      <th>mean</th>\n",
       "      <td>20596.715842</td>\n",
       "      <td>2017.352438</td>\n",
       "    </tr>\n",
       "    <tr>\n",
       "      <th>std</th>\n",
       "      <td>4592.388755</td>\n",
       "      <td>2.602261</td>\n",
       "    </tr>\n",
       "    <tr>\n",
       "      <th>min</th>\n",
       "      <td>12647.000000</td>\n",
       "      <td>2013.000000</td>\n",
       "    </tr>\n",
       "    <tr>\n",
       "      <th>25%</th>\n",
       "      <td>16627.500000</td>\n",
       "      <td>2015.000000</td>\n",
       "    </tr>\n",
       "    <tr>\n",
       "      <th>50%</th>\n",
       "      <td>20591.000000</td>\n",
       "      <td>2018.000000</td>\n",
       "    </tr>\n",
       "    <tr>\n",
       "      <th>75%</th>\n",
       "      <td>24563.500000</td>\n",
       "      <td>2019.000000</td>\n",
       "    </tr>\n",
       "    <tr>\n",
       "      <th>max</th>\n",
       "      <td>28580.000000</td>\n",
       "      <td>2022.000000</td>\n",
       "    </tr>\n",
       "  </tbody>\n",
       "</table>\n",
       "</div>"
      ],
      "text/plain": [
       "       Record Number   Fiscal Year\n",
       "count   14499.000000  14499.000000\n",
       "mean    20596.715842   2017.352438\n",
       "std      4592.388755      2.602261\n",
       "min     12647.000000   2013.000000\n",
       "25%     16627.500000   2015.000000\n",
       "50%     20591.000000   2018.000000\n",
       "75%     24563.500000   2019.000000\n",
       "max     28580.000000   2022.000000"
      ]
     },
     "execution_count": 3,
     "metadata": {},
     "output_type": "execute_result"
    }
   ],
   "source": [
    "df.describe()"
   ]
  },
  {
   "cell_type": "code",
   "execution_count": 4,
   "metadata": {
    "colab": {
     "base_uri": "https://localhost:8080/",
     "height": 469
    },
    "id": "WzmFS9_JSmMr",
    "outputId": "7d7c6dfb-086a-4929-e957-4905eb503183",
    "trusted": true
   },
   "outputs": [
    {
     "data": {
      "text/html": [
       "<div>\n",
       "<style scoped>\n",
       "    .dataframe tbody tr th:only-of-type {\n",
       "        vertical-align: middle;\n",
       "    }\n",
       "\n",
       "    .dataframe tbody tr th {\n",
       "        vertical-align: top;\n",
       "    }\n",
       "\n",
       "    .dataframe thead th {\n",
       "        text-align: right;\n",
       "    }\n",
       "</style>\n",
       "<table border=\"1\" class=\"dataframe\">\n",
       "  <thead>\n",
       "    <tr style=\"text-align: right;\">\n",
       "      <th></th>\n",
       "      <th>Record Number</th>\n",
       "      <th>Fiscal Year</th>\n",
       "      <th>Department Name</th>\n",
       "      <th>Sub-Unit of Department</th>\n",
       "      <th>EEO Category Name</th>\n",
       "      <th>Reason</th>\n",
       "      <th>Employee Status</th>\n",
       "      <th>Pay Plan</th>\n",
       "      <th>Pay Grade</th>\n",
       "      <th>Classification Title</th>\n",
       "      <th>Separation Date</th>\n",
       "      <th>Pay Period End Date</th>\n",
       "      <th>Current Fiscal Year</th>\n",
       "    </tr>\n",
       "  </thead>\n",
       "  <tbody>\n",
       "    <tr>\n",
       "      <th>0</th>\n",
       "      <td>12647</td>\n",
       "      <td>2013</td>\n",
       "      <td>Administrative Services, Department of</td>\n",
       "      <td>NaN</td>\n",
       "      <td>Skilled Craft</td>\n",
       "      <td>Involuntary Dismissal</td>\n",
       "      <td>Permanent (Merit)</td>\n",
       "      <td>014</td>\n",
       "      <td>21+13.5%</td>\n",
       "      <td>PAINTER 2</td>\n",
       "      <td>2012-06-22</td>\n",
       "      <td>2012-07-05</td>\n",
       "      <td>False</td>\n",
       "    </tr>\n",
       "    <tr>\n",
       "      <th>1</th>\n",
       "      <td>12648</td>\n",
       "      <td>2013</td>\n",
       "      <td>Commerce, Department of</td>\n",
       "      <td>Insurance Division</td>\n",
       "      <td>Professional</td>\n",
       "      <td>Retirement</td>\n",
       "      <td>Permanent (Merit)</td>\n",
       "      <td>014</td>\n",
       "      <td>29</td>\n",
       "      <td>COMPLIANCE OFFICER 1</td>\n",
       "      <td>2012-06-22</td>\n",
       "      <td>2012-07-05</td>\n",
       "      <td>False</td>\n",
       "    </tr>\n",
       "    <tr>\n",
       "      <th>2</th>\n",
       "      <td>12649</td>\n",
       "      <td>2013</td>\n",
       "      <td>Corrections, Department of</td>\n",
       "      <td>Oakdale</td>\n",
       "      <td>Protective Services - Sworn</td>\n",
       "      <td>Retirement</td>\n",
       "      <td>Permanent (Merit)</td>\n",
       "      <td>014</td>\n",
       "      <td>23</td>\n",
       "      <td>CORRECTIONAL OFFICER</td>\n",
       "      <td>2012-06-22</td>\n",
       "      <td>2012-07-05</td>\n",
       "      <td>False</td>\n",
       "    </tr>\n",
       "    <tr>\n",
       "      <th>3</th>\n",
       "      <td>12650</td>\n",
       "      <td>2013</td>\n",
       "      <td>Education, Department of</td>\n",
       "      <td>Vocational Rehabilitation</td>\n",
       "      <td>Official/Administrator</td>\n",
       "      <td>Retirement</td>\n",
       "      <td>Permanent (Merit)</td>\n",
       "      <td>000</td>\n",
       "      <td>29</td>\n",
       "      <td>EXEC OFF 1</td>\n",
       "      <td>2012-06-22</td>\n",
       "      <td>2012-07-05</td>\n",
       "      <td>False</td>\n",
       "    </tr>\n",
       "    <tr>\n",
       "      <th>4</th>\n",
       "      <td>12651</td>\n",
       "      <td>2013</td>\n",
       "      <td>Iowa Workforce Development</td>\n",
       "      <td>NaN</td>\n",
       "      <td>Professional</td>\n",
       "      <td>Retirement</td>\n",
       "      <td>Permanent (Merit)</td>\n",
       "      <td>014</td>\n",
       "      <td>30</td>\n",
       "      <td>MANAGEMENT ANALYST 3</td>\n",
       "      <td>2012-06-22</td>\n",
       "      <td>2012-07-05</td>\n",
       "      <td>False</td>\n",
       "    </tr>\n",
       "  </tbody>\n",
       "</table>\n",
       "</div>"
      ],
      "text/plain": [
       "   Record Number  Fiscal Year                         Department Name  \\\n",
       "0          12647         2013  Administrative Services, Department of   \n",
       "1          12648         2013                 Commerce, Department of   \n",
       "2          12649         2013              Corrections, Department of   \n",
       "3          12650         2013                Education, Department of   \n",
       "4          12651         2013              Iowa Workforce Development   \n",
       "\n",
       "      Sub-Unit of Department            EEO Category Name  \\\n",
       "0                        NaN                Skilled Craft   \n",
       "1         Insurance Division                 Professional   \n",
       "2                    Oakdale  Protective Services - Sworn   \n",
       "3  Vocational Rehabilitation       Official/Administrator   \n",
       "4                        NaN                 Professional   \n",
       "\n",
       "                  Reason    Employee Status Pay Plan Pay Grade  \\\n",
       "0  Involuntary Dismissal  Permanent (Merit)      014  21+13.5%   \n",
       "1             Retirement  Permanent (Merit)      014        29   \n",
       "2             Retirement  Permanent (Merit)      014        23   \n",
       "3             Retirement  Permanent (Merit)      000        29   \n",
       "4             Retirement  Permanent (Merit)      014        30   \n",
       "\n",
       "   Classification Title Separation Date Pay Period End Date  \\\n",
       "0             PAINTER 2      2012-06-22          2012-07-05   \n",
       "1  COMPLIANCE OFFICER 1      2012-06-22          2012-07-05   \n",
       "2  CORRECTIONAL OFFICER      2012-06-22          2012-07-05   \n",
       "3            EXEC OFF 1      2012-06-22          2012-07-05   \n",
       "4  MANAGEMENT ANALYST 3      2012-06-22          2012-07-05   \n",
       "\n",
       "   Current Fiscal Year  \n",
       "0                False  \n",
       "1                False  \n",
       "2                False  \n",
       "3                False  \n",
       "4                False  "
      ]
     },
     "execution_count": 4,
     "metadata": {},
     "output_type": "execute_result"
    }
   ],
   "source": [
    "# Data Cleaning: Remove duplicates\n",
    "df.drop_duplicates(inplace=True)\n",
    "\n",
    "# Convert dates to datetime format\n",
    "df['Separation Date'] = pd.to_datetime(df['Separation Date'], errors='coerce')\n",
    "df['Pay Period End Date'] = pd.to_datetime(df['Pay Period End Date'], errors='coerce')\n",
    "df.head()"
   ]
  },
  {
   "cell_type": "code",
   "execution_count": 5,
   "metadata": {
    "id": "_zjQJHb7SmJL",
    "trusted": true
   },
   "outputs": [],
   "source": [
    "# Handle missing values\n",
    "# Convert 'Pay Grade' to numeric, handling non-numeric values\n",
    "df['Pay Grade'] = pd.to_numeric(df['Pay Grade'], errors='coerce')  # Convert to numeric, invalid values become NaN\n",
    "\n",
    "num_imputer = SimpleImputer(strategy='median')\n",
    "df[['Pay Grade']] = num_imputer.fit_transform(df[['Pay Grade']])\n",
    "\n",
    "cat_imputer = SimpleImputer(strategy='most_frequent')\n",
    "df[['Reason', 'Employee Status', 'Sub-Unit of Department']] = cat_imputer.fit_transform(df[['Reason', 'Employee Status', 'Sub-Unit of Department']])\n"
   ]
  },
  {
   "cell_type": "code",
   "execution_count": 6,
   "metadata": {
    "colab": {
     "base_uri": "https://localhost:8080/",
     "height": 469
    },
    "id": "jleyp0fTSmGW",
    "outputId": "cd988c35-99df-4f76-8976-07d170eb0776",
    "trusted": true
   },
   "outputs": [
    {
     "data": {
      "text/html": [
       "<div>\n",
       "<style scoped>\n",
       "    .dataframe tbody tr th:only-of-type {\n",
       "        vertical-align: middle;\n",
       "    }\n",
       "\n",
       "    .dataframe tbody tr th {\n",
       "        vertical-align: top;\n",
       "    }\n",
       "\n",
       "    .dataframe thead th {\n",
       "        text-align: right;\n",
       "    }\n",
       "</style>\n",
       "<table border=\"1\" class=\"dataframe\">\n",
       "  <thead>\n",
       "    <tr style=\"text-align: right;\">\n",
       "      <th></th>\n",
       "      <th>Record Number</th>\n",
       "      <th>Fiscal Year</th>\n",
       "      <th>Department Name</th>\n",
       "      <th>Sub-Unit of Department</th>\n",
       "      <th>EEO Category Name</th>\n",
       "      <th>Reason</th>\n",
       "      <th>Employee Status</th>\n",
       "      <th>Pay Plan</th>\n",
       "      <th>Pay Grade</th>\n",
       "      <th>Classification Title</th>\n",
       "      <th>Separation Date</th>\n",
       "      <th>Pay Period End Date</th>\n",
       "      <th>Current Fiscal Year</th>\n",
       "      <th>Separation Year</th>\n",
       "      <th>Recent Layoff</th>\n",
       "      <th>Voluntary/Involuntary</th>\n",
       "    </tr>\n",
       "  </thead>\n",
       "  <tbody>\n",
       "    <tr>\n",
       "      <th>0</th>\n",
       "      <td>12647</td>\n",
       "      <td>2013</td>\n",
       "      <td>Administrative Services, Department of</td>\n",
       "      <td>Field Operations</td>\n",
       "      <td>Skilled Craft</td>\n",
       "      <td>Involuntary Dismissal</td>\n",
       "      <td>Permanent (Merit)</td>\n",
       "      <td>014</td>\n",
       "      <td>24.0</td>\n",
       "      <td>PAINTER 2</td>\n",
       "      <td>2012-06-22</td>\n",
       "      <td>2012-07-05</td>\n",
       "      <td>False</td>\n",
       "      <td>2012</td>\n",
       "      <td>False</td>\n",
       "      <td>Involuntary</td>\n",
       "    </tr>\n",
       "    <tr>\n",
       "      <th>1</th>\n",
       "      <td>12648</td>\n",
       "      <td>2013</td>\n",
       "      <td>Commerce, Department of</td>\n",
       "      <td>Insurance Division</td>\n",
       "      <td>Professional</td>\n",
       "      <td>Retirement</td>\n",
       "      <td>Permanent (Merit)</td>\n",
       "      <td>014</td>\n",
       "      <td>29.0</td>\n",
       "      <td>COMPLIANCE OFFICER 1</td>\n",
       "      <td>2012-06-22</td>\n",
       "      <td>2012-07-05</td>\n",
       "      <td>False</td>\n",
       "      <td>2012</td>\n",
       "      <td>False</td>\n",
       "      <td>Voluntary</td>\n",
       "    </tr>\n",
       "    <tr>\n",
       "      <th>2</th>\n",
       "      <td>12649</td>\n",
       "      <td>2013</td>\n",
       "      <td>Corrections, Department of</td>\n",
       "      <td>Oakdale</td>\n",
       "      <td>Protective Services - Sworn</td>\n",
       "      <td>Retirement</td>\n",
       "      <td>Permanent (Merit)</td>\n",
       "      <td>014</td>\n",
       "      <td>23.0</td>\n",
       "      <td>CORRECTIONAL OFFICER</td>\n",
       "      <td>2012-06-22</td>\n",
       "      <td>2012-07-05</td>\n",
       "      <td>False</td>\n",
       "      <td>2012</td>\n",
       "      <td>False</td>\n",
       "      <td>Voluntary</td>\n",
       "    </tr>\n",
       "    <tr>\n",
       "      <th>3</th>\n",
       "      <td>12650</td>\n",
       "      <td>2013</td>\n",
       "      <td>Education, Department of</td>\n",
       "      <td>Vocational Rehabilitation</td>\n",
       "      <td>Official/Administrator</td>\n",
       "      <td>Retirement</td>\n",
       "      <td>Permanent (Merit)</td>\n",
       "      <td>000</td>\n",
       "      <td>29.0</td>\n",
       "      <td>EXEC OFF 1</td>\n",
       "      <td>2012-06-22</td>\n",
       "      <td>2012-07-05</td>\n",
       "      <td>False</td>\n",
       "      <td>2012</td>\n",
       "      <td>False</td>\n",
       "      <td>Voluntary</td>\n",
       "    </tr>\n",
       "    <tr>\n",
       "      <th>4</th>\n",
       "      <td>12651</td>\n",
       "      <td>2013</td>\n",
       "      <td>Iowa Workforce Development</td>\n",
       "      <td>Field Operations</td>\n",
       "      <td>Professional</td>\n",
       "      <td>Retirement</td>\n",
       "      <td>Permanent (Merit)</td>\n",
       "      <td>014</td>\n",
       "      <td>30.0</td>\n",
       "      <td>MANAGEMENT ANALYST 3</td>\n",
       "      <td>2012-06-22</td>\n",
       "      <td>2012-07-05</td>\n",
       "      <td>False</td>\n",
       "      <td>2012</td>\n",
       "      <td>False</td>\n",
       "      <td>Voluntary</td>\n",
       "    </tr>\n",
       "  </tbody>\n",
       "</table>\n",
       "</div>"
      ],
      "text/plain": [
       "   Record Number  Fiscal Year                         Department Name  \\\n",
       "0          12647         2013  Administrative Services, Department of   \n",
       "1          12648         2013                 Commerce, Department of   \n",
       "2          12649         2013              Corrections, Department of   \n",
       "3          12650         2013                Education, Department of   \n",
       "4          12651         2013              Iowa Workforce Development   \n",
       "\n",
       "      Sub-Unit of Department            EEO Category Name  \\\n",
       "0           Field Operations                Skilled Craft   \n",
       "1         Insurance Division                 Professional   \n",
       "2                    Oakdale  Protective Services - Sworn   \n",
       "3  Vocational Rehabilitation       Official/Administrator   \n",
       "4           Field Operations                 Professional   \n",
       "\n",
       "                  Reason    Employee Status Pay Plan  Pay Grade  \\\n",
       "0  Involuntary Dismissal  Permanent (Merit)      014       24.0   \n",
       "1             Retirement  Permanent (Merit)      014       29.0   \n",
       "2             Retirement  Permanent (Merit)      014       23.0   \n",
       "3             Retirement  Permanent (Merit)      000       29.0   \n",
       "4             Retirement  Permanent (Merit)      014       30.0   \n",
       "\n",
       "   Classification Title Separation Date Pay Period End Date  \\\n",
       "0             PAINTER 2      2012-06-22          2012-07-05   \n",
       "1  COMPLIANCE OFFICER 1      2012-06-22          2012-07-05   \n",
       "2  CORRECTIONAL OFFICER      2012-06-22          2012-07-05   \n",
       "3            EXEC OFF 1      2012-06-22          2012-07-05   \n",
       "4  MANAGEMENT ANALYST 3      2012-06-22          2012-07-05   \n",
       "\n",
       "   Current Fiscal Year  Separation Year  Recent Layoff Voluntary/Involuntary  \n",
       "0                False             2012          False           Involuntary  \n",
       "1                False             2012          False             Voluntary  \n",
       "2                False             2012          False             Voluntary  \n",
       "3                False             2012          False             Voluntary  \n",
       "4                False             2012          False             Voluntary  "
      ]
     },
     "execution_count": 6,
     "metadata": {},
     "output_type": "execute_result"
    }
   ],
   "source": [
    "# Feature Engineering\n",
    "df['Separation Year'] = df['Separation Date'].dt.year\n",
    "df['Recent Layoff'] = df['Separation Year'] >= 2018\n",
    "df['Voluntary/Involuntary'] = df['Reason'].apply(lambda x: 'Voluntary' if 'Retirement' in x else 'Involuntary')\n",
    "df.head()"
   ]
  },
  {
   "cell_type": "code",
   "execution_count": 7,
   "metadata": {
    "colab": {
     "base_uri": "https://localhost:8080/"
    },
    "id": "_8VNoUKKSQi5",
    "outputId": "e64654a5-f4f9-40af-bc43-4b822a37cf61",
    "trusted": true
   },
   "outputs": [
    {
     "name": "stdout",
     "output_type": "stream",
     "text": [
      "Class distribution before SMOTE: Counter({'Voluntary Resignation': 6272, 'Retirement': 5101, 'Involuntary Dismissal': 1773, 'Involuntary Layoff': 441, 'Disability/Medical': 288, 'Abandoned Job': 200, 'Involuntary Resignation': 186, 'Death': 180, 'Return to Recall': 37, 'Term Expiration': 18, 'Mandatory Retirement': 2, 'Pending Appeal': 1})\n",
      "Not enough class variation for SMOTE. Proceeding without resampling.\n",
      "Preprocessing complete. Data saved as 'processed_layoff_data.csv'\n"
     ]
    }
   ],
   "source": [
    "# Encode categorical features\n",
    "label_encoder = LabelEncoder()\n",
    "df['Employee Status Encoded'] = label_encoder.fit_transform(df['Employee Status'])\n",
    "\n",
    "one_hot_encoder = OneHotEncoder(handle_unknown='ignore', sparse_output=False)\n",
    "encoded_columns = one_hot_encoder.fit_transform(df[['EEO Category Name']])\n",
    "encoded_df = pd.DataFrame(encoded_columns, columns=[f\"EEO_{col}\" for col in one_hot_encoder.get_feature_names_out()])\n",
    "\n",
    "# Reset index before merging\n",
    "df = df.reset_index(drop=True)\n",
    "encoded_df = encoded_df.reset_index(drop=True)\n",
    "\n",
    "# Drop original categorical column and merge encoded DataFrame\n",
    "df = df.drop(columns=['EEO Category Name']).join(encoded_df)\n",
    "\n",
    "# Handle class imbalance using SMOTE\n",
    "X = df.drop(columns=['Reason'])\n",
    "y = df['Reason']\n",
    "\n",
    "# Convert ALL object type columns to numerical using OneHotEncoding\n",
    "for column in X.select_dtypes(include=['object']).columns:\n",
    "    encoder = OneHotEncoder(sparse_output=False, handle_unknown='ignore')\n",
    "    encoded_data = encoder.fit_transform(X[[column]])\n",
    "    encoded_feature_names = encoder.get_feature_names_out([column])\n",
    "    encoded_df = pd.DataFrame(encoded_data, columns=encoded_feature_names, index=X.index)\n",
    "    X = X.drop(columns=[column]).join(encoded_df)\n",
    "\n",
    "# Check class distribution before SMOTE\n",
    "print(\"Class distribution before SMOTE:\", Counter(y))\n",
    "\n",
    "# Apply SMOTE only if there are enough samples\n",
    "if len(Counter(y)) > 1 and min(Counter(y).values()) >= 2:  # Ensure enough samples for resampling\n",
    "    smote = SMOTE(sampling_strategy='auto', random_state=42, k_neighbors=2)\n",
    "    X_resampled, y_resampled = smote.fit_resample(X, y)\n",
    "    df_resampled = pd.concat([\n",
    "        pd.DataFrame(X_resampled, columns=X.columns),\n",
    "        pd.DataFrame(y_resampled, columns=['Reason'])\n",
    "    ], axis=1)\n",
    "    print(\"SMOTE applied successfully.\")\n",
    "else:\n",
    "    print(\"Not enough class variation for SMOTE. Proceeding without resampling.\")\n",
    "    df_resampled = df\n",
    "\n",
    "# Save the processed data\n",
    "df_resampled.to_csv(\"processed_layoff_data.csv\", index=False)\n",
    "print(\"Preprocessing complete. Data saved as 'processed_layoff_data.csv'\")\n"
   ]
  },
  {
   "cell_type": "code",
   "execution_count": 8,
   "metadata": {
    "execution": {
     "iopub.execute_input": "2025-03-16T12:30:28.297852Z",
     "iopub.status.busy": "2025-03-16T12:30:28.297530Z",
     "iopub.status.idle": "2025-03-16T12:30:28.622331Z",
     "shell.execute_reply": "2025-03-16T12:30:28.621678Z",
     "shell.execute_reply.started": "2025-03-16T12:30:28.297826Z"
    },
    "id": "zxePaXwdSRl6",
    "trusted": true
   },
   "outputs": [],
   "source": [
    "from sklearn.model_selection import train_test_split\n",
    "from sklearn.preprocessing import StandardScaler, LabelEncoder, OneHotEncoder\n",
    "from sklearn.utils import resample\n",
    "from sklearn.linear_model import LogisticRegression\n",
    "from sklearn.ensemble import RandomForestClassifier, GradientBoostingClassifier, ExtraTreesClassifier\n",
    "from sklearn.svm import SVC\n",
    "from sklearn.metrics import roc_auc_score, precision_score, accuracy_score, mean_absolute_error, mean_squared_error\n",
    "import pandas as pd\n",
    "import numpy as np"
   ]
  },
  {
   "cell_type": "code",
   "execution_count": 9,
   "metadata": {
    "execution": {
     "iopub.execute_input": "2025-03-16T12:30:28.623597Z",
     "iopub.status.busy": "2025-03-16T12:30:28.623277Z",
     "iopub.status.idle": "2025-03-16T12:30:28.681186Z",
     "shell.execute_reply": "2025-03-16T12:30:28.680550Z",
     "shell.execute_reply.started": "2025-03-16T12:30:28.623576Z"
    },
    "trusted": true
   },
   "outputs": [],
   "source": [
    "# Load processed data\n",
    "df = pd.read_csv(\"E:/assignments/st28629/US_LayOffs/US_LayOffs/Dataset/processed_layoff_data.csv\")"
   ]
  },
  {
   "cell_type": "code",
   "execution_count": 10,
   "metadata": {
    "execution": {
     "iopub.execute_input": "2025-03-16T12:30:28.682475Z",
     "iopub.status.busy": "2025-03-16T12:30:28.682170Z",
     "iopub.status.idle": "2025-03-16T12:30:28.698593Z",
     "shell.execute_reply": "2025-03-16T12:30:28.697855Z",
     "shell.execute_reply.started": "2025-03-16T12:30:28.682451Z"
    },
    "trusted": true
   },
   "outputs": [
    {
     "name": "stdout",
     "output_type": "stream",
     "text": [
      "<class 'pandas.core.frame.DataFrame'>\n",
      "RangeIndex: 14499 entries, 0 to 14498\n",
      "Data columns (total 24 columns):\n",
      " #   Column                                             Non-Null Count  Dtype  \n",
      "---  ------                                             --------------  -----  \n",
      " 0   Record Number                                      14499 non-null  int64  \n",
      " 1   Fiscal Year                                        14499 non-null  int64  \n",
      " 2   Department Name                                    14499 non-null  object \n",
      " 3   Sub-Unit of Department                             14499 non-null  object \n",
      " 4   Reason                                             14499 non-null  object \n",
      " 5   Employee Status                                    14499 non-null  object \n",
      " 6   Pay Plan                                           14454 non-null  object \n",
      " 7   Pay Grade                                          14499 non-null  float64\n",
      " 8   Classification Title                               14454 non-null  object \n",
      " 9   Separation Date                                    14499 non-null  object \n",
      " 10  Pay Period End Date                                14499 non-null  object \n",
      " 11  Current Fiscal Year                                14499 non-null  bool   \n",
      " 12  Separation Year                                    14499 non-null  int64  \n",
      " 13  Recent Layoff                                      14499 non-null  bool   \n",
      " 14  Voluntary/Involuntary                              14499 non-null  object \n",
      " 15  Employee Status Encoded                            14499 non-null  int64  \n",
      " 16  EEO_EEO Category Name_Administrative Support       14499 non-null  float64\n",
      " 17  EEO_EEO Category Name_Official/Administrator       14499 non-null  float64\n",
      " 18  EEO_EEO Category Name_Professional                 14499 non-null  float64\n",
      " 19  EEO_EEO Category Name_Protective Services - Sworn  14499 non-null  float64\n",
      " 20  EEO_EEO Category Name_Service/Maintenance          14499 non-null  float64\n",
      " 21  EEO_EEO Category Name_Skilled Craft                14499 non-null  float64\n",
      " 22  EEO_EEO Category Name_Technician                   14499 non-null  float64\n",
      " 23  EEO_EEO Category Name_nan                          14499 non-null  float64\n",
      "dtypes: bool(2), float64(9), int64(4), object(9)\n",
      "memory usage: 2.5+ MB\n"
     ]
    }
   ],
   "source": [
    "df.info()"
   ]
  },
  {
   "cell_type": "code",
   "execution_count": 11,
   "metadata": {
    "execution": {
     "iopub.execute_input": "2025-03-16T12:30:31.963753Z",
     "iopub.status.busy": "2025-03-16T12:30:31.963433Z",
     "iopub.status.idle": "2025-03-16T12:30:31.971914Z",
     "shell.execute_reply": "2025-03-16T12:30:31.971039Z",
     "shell.execute_reply.started": "2025-03-16T12:30:31.963731Z"
    },
    "trusted": true
   },
   "outputs": [
    {
     "data": {
      "text/plain": [
       "Voluntary Resignation      6272\n",
       "Retirement                 5101\n",
       "Involuntary Dismissal      1773\n",
       "Involuntary Layoff          441\n",
       "Disability/Medical          288\n",
       "Abandoned Job               200\n",
       "Involuntary Resignation     186\n",
       "Death                       180\n",
       "Return to Recall             37\n",
       "Term Expiration              18\n",
       "Mandatory Retirement          2\n",
       "Pending Appeal                1\n",
       "Name: Reason, dtype: int64"
      ]
     },
     "execution_count": 11,
     "metadata": {},
     "output_type": "execute_result"
    }
   ],
   "source": [
    "df['Reason'].value_counts()"
   ]
  },
  {
   "cell_type": "code",
   "execution_count": 12,
   "metadata": {
    "execution": {
     "iopub.execute_input": "2025-03-16T12:30:32.132309Z",
     "iopub.status.busy": "2025-03-16T12:30:32.132092Z",
     "iopub.status.idle": "2025-03-16T12:30:32.138598Z",
     "shell.execute_reply": "2025-03-16T12:30:32.137695Z",
     "shell.execute_reply.started": "2025-03-16T12:30:32.132291Z"
    },
    "trusted": true
   },
   "outputs": [],
   "source": [
    "# Label encode the 'Reason' column\n",
    "label_encoder = LabelEncoder()\n",
    "df['Reason'] = label_encoder.fit_transform(df['Reason'])\n"
   ]
  },
  {
   "cell_type": "code",
   "execution_count": 13,
   "metadata": {
    "execution": {
     "iopub.execute_input": "2025-03-16T12:30:33.998838Z",
     "iopub.status.busy": "2025-03-16T12:30:33.998545Z",
     "iopub.status.idle": "2025-03-16T12:30:34.076838Z",
     "shell.execute_reply": "2025-03-16T12:30:34.076055Z",
     "shell.execute_reply.started": "2025-03-16T12:30:33.998817Z"
    },
    "trusted": true
   },
   "outputs": [],
   "source": [
    "# One-hot encode categorical columns\n",
    "categorical_columns = df.select_dtypes(include=['object']).columns\n",
    "df = pd.get_dummies(df, columns=categorical_columns, drop_first=True)\n"
   ]
  },
  {
   "cell_type": "code",
   "execution_count": 14,
   "metadata": {
    "execution": {
     "iopub.execute_input": "2025-03-16T12:30:34.196985Z",
     "iopub.status.busy": "2025-03-16T12:30:34.196719Z",
     "iopub.status.idle": "2025-03-16T12:30:34.201832Z",
     "shell.execute_reply": "2025-03-16T12:30:34.201146Z",
     "shell.execute_reply.started": "2025-03-16T12:30:34.196963Z"
    },
    "trusted": true
   },
   "outputs": [],
   "source": [
    "# Balance the dataset by augmenting minor classes\n",
    "class_counts = df['Reason'].value_counts()\n",
    "min_class_count = max(10, class_counts.min())  # Ensure at least 10 samples per class\n"
   ]
  },
  {
   "cell_type": "code",
   "execution_count": 15,
   "metadata": {
    "execution": {
     "iopub.execute_input": "2025-03-16T12:30:35.666790Z",
     "iopub.status.busy": "2025-03-16T12:30:35.666503Z",
     "iopub.status.idle": "2025-03-16T12:30:36.108082Z",
     "shell.execute_reply": "2025-03-16T12:30:36.107307Z",
     "shell.execute_reply.started": "2025-03-16T12:30:35.666770Z"
    },
    "trusted": true
   },
   "outputs": [],
   "source": [
    "df_balanced = pd.DataFrame()\n",
    "for class_label, count in class_counts.items():\n",
    "    class_subset = df[df['Reason'] == class_label]\n",
    "    if count < min_class_count:\n",
    "        class_subset = resample(class_subset, replace=True, n_samples=min_class_count, random_state=42)\n",
    "    df_balanced = pd.concat([df_balanced, class_subset])\n",
    "\n",
    "df_balanced = df_balanced.sample(frac=1, random_state=42).reset_index(drop=True)  # Shuffle dataset\n"
   ]
  },
  {
   "cell_type": "code",
   "execution_count": 16,
   "metadata": {
    "execution": {
     "iopub.execute_input": "2025-03-16T12:30:36.109146Z",
     "iopub.status.busy": "2025-03-16T12:30:36.108930Z",
     "iopub.status.idle": "2025-03-16T12:30:36.130646Z",
     "shell.execute_reply": "2025-03-16T12:30:36.129960Z",
     "shell.execute_reply.started": "2025-03-16T12:30:36.109127Z"
    },
    "trusted": true
   },
   "outputs": [],
   "source": [
    "# Define features and target\n",
    "X = df_balanced.drop(columns=['Reason'])\n",
    "y = df_balanced['Reason']\n"
   ]
  },
  {
   "cell_type": "code",
   "execution_count": 17,
   "metadata": {
    "execution": {
     "iopub.execute_input": "2025-03-16T12:30:39.847842Z",
     "iopub.status.busy": "2025-03-16T12:30:39.847549Z",
     "iopub.status.idle": "2025-03-16T12:30:39.931123Z",
     "shell.execute_reply": "2025-03-16T12:30:39.930442Z",
     "shell.execute_reply.started": "2025-03-16T12:30:39.847822Z"
    },
    "trusted": true
   },
   "outputs": [],
   "source": [
    "# Split the dataset into training and testing sets\n",
    "X_train, X_test, y_train, y_test = train_test_split(X, y, test_size=0.2, random_state=42, stratify=y)"
   ]
  },
  {
   "cell_type": "code",
   "execution_count": 18,
   "metadata": {
    "execution": {
     "iopub.execute_input": "2025-03-16T12:30:40.058435Z",
     "iopub.status.busy": "2025-03-16T12:30:40.058145Z",
     "iopub.status.idle": "2025-03-16T12:30:42.180137Z",
     "shell.execute_reply": "2025-03-16T12:30:42.179204Z",
     "shell.execute_reply.started": "2025-03-16T12:30:40.058413Z"
    },
    "trusted": true
   },
   "outputs": [],
   "source": [
    "# Standardize the features\n",
    "scaler = StandardScaler()\n",
    "X_train_scaled = scaler.fit_transform(X_train)\n",
    "X_test_scaled = scaler.transform(X_test)\n"
   ]
  },
  {
   "cell_type": "code",
   "execution_count": 19,
   "metadata": {
    "execution": {
     "iopub.execute_input": "2025-03-16T12:30:42.770015Z",
     "iopub.status.busy": "2025-03-16T12:30:42.769731Z",
     "iopub.status.idle": "2025-03-16T12:30:42.775386Z",
     "shell.execute_reply": "2025-03-16T12:30:42.774451Z",
     "shell.execute_reply.started": "2025-03-16T12:30:42.769994Z"
    },
    "trusted": true
   },
   "outputs": [],
   "source": [
    "# Function to evaluate model performance\n",
    "def evaluate_model(model, X_test, y_test):\n",
    "    y_pred = model.predict(X_test)\n",
    "    if hasattr(model, \"predict_proba\"):\n",
    "        y_pred_proba = model.predict_proba(X_test)\n",
    "    else:\n",
    "        y_pred_proba = np.zeros((len(y_pred), len(np.unique(y_test))))\n",
    "    \n",
    "    auc = roc_auc_score(y_test, y_pred_proba, multi_class='ovr', average='weighted')\n",
    "    precision = precision_score(y_test, y_pred, average='weighted')\n",
    "    accuracy = accuracy_score(y_test, y_pred)\n",
    "    mae = mean_absolute_error(y_test, y_pred)\n",
    "    mse = mean_squared_error(y_test, y_pred)\n",
    "    rmse = np.sqrt(mse)\n",
    "    mape = np.mean(np.abs((y_test - y_pred) / y_test)) * 100\n",
    "    \n",
    "    return {\"AUC\": auc, \"Precision\": precision, \"Accuracy\": accuracy, \"MAE\": mae, \"MSE\": mse, \"RMSE\": rmse, \"MAPE\": mape}\n"
   ]
  },
  {
   "cell_type": "markdown",
   "metadata": {},
   "source": [
    "### Logistic Regression Model\n"
   ]
  },
  {
   "cell_type": "code",
   "execution_count": 20,
   "metadata": {
    "execution": {
     "iopub.execute_input": "2025-03-16T12:30:44.505132Z",
     "iopub.status.busy": "2025-03-16T12:30:44.504829Z",
     "iopub.status.idle": "2025-03-16T12:31:51.028732Z",
     "shell.execute_reply": "2025-03-16T12:31:51.027721Z",
     "shell.execute_reply.started": "2025-03-16T12:30:44.505108Z"
    },
    "trusted": true
   },
   "outputs": [],
   "source": [
    "log_reg = LogisticRegression(max_iter=1000)\n",
    "log_reg.fit(X_train_scaled, y_train)\n",
    "log_reg_metrics = evaluate_model(log_reg, X_test_scaled, y_test)\n"
   ]
  },
  {
   "cell_type": "markdown",
   "metadata": {},
   "source": [
    "### Random Forest Classifier\n"
   ]
  },
  {
   "cell_type": "code",
   "execution_count": 21,
   "metadata": {
    "execution": {
     "iopub.execute_input": "2025-03-16T12:31:51.030063Z",
     "iopub.status.busy": "2025-03-16T12:31:51.029757Z",
     "iopub.status.idle": "2025-03-16T12:32:08.867891Z",
     "shell.execute_reply": "2025-03-16T12:32:08.867136Z",
     "shell.execute_reply.started": "2025-03-16T12:31:51.030028Z"
    },
    "trusted": true
   },
   "outputs": [],
   "source": [
    "rf_clf = RandomForestClassifier(n_estimators=100, random_state=42)\n",
    "rf_clf.fit(X_train, y_train)\n",
    "rf_metrics = evaluate_model(rf_clf, X_test, y_test)"
   ]
  },
  {
   "cell_type": "markdown",
   "metadata": {},
   "source": [
    "### Extra Trees Classifier\n"
   ]
  },
  {
   "cell_type": "code",
   "execution_count": 22,
   "metadata": {
    "execution": {
     "iopub.execute_input": "2025-03-16T12:32:08.869870Z",
     "iopub.status.busy": "2025-03-16T12:32:08.869524Z",
     "iopub.status.idle": "2025-03-16T12:32:33.940949Z",
     "shell.execute_reply": "2025-03-16T12:32:33.939950Z",
     "shell.execute_reply.started": "2025-03-16T12:32:08.869841Z"
    },
    "trusted": true
   },
   "outputs": [],
   "source": [
    "et_clf = ExtraTreesClassifier(n_estimators=100, random_state=42)\n",
    "et_clf.fit(X_train, y_train)\n",
    "et_metrics = evaluate_model(et_clf, X_test, y_test)\n"
   ]
  },
  {
   "cell_type": "markdown",
   "metadata": {},
   "source": [
    "### Gradient Boosting Classifier"
   ]
  },
  {
   "cell_type": "code",
   "execution_count": 23,
   "metadata": {
    "execution": {
     "iopub.execute_input": "2025-03-16T12:32:33.942258Z",
     "iopub.status.busy": "2025-03-16T12:32:33.941998Z",
     "iopub.status.idle": "2025-03-16T12:40:10.593886Z",
     "shell.execute_reply": "2025-03-16T12:40:10.593120Z",
     "shell.execute_reply.started": "2025-03-16T12:32:33.942237Z"
    },
    "trusted": true
   },
   "outputs": [],
   "source": [
    "gb_clf = GradientBoostingClassifier(n_estimators=100, learning_rate=0.1, random_state=42)\n",
    "gb_clf.fit(X_train, y_train)\n",
    "gb_metrics = evaluate_model(gb_clf, X_test, y_test)"
   ]
  },
  {
   "cell_type": "code",
   "execution_count": 24,
   "metadata": {
    "execution": {
     "iopub.execute_input": "2025-03-16T12:40:10.595084Z",
     "iopub.status.busy": "2025-03-16T12:40:10.594779Z",
     "iopub.status.idle": "2025-03-16T12:40:10.602715Z",
     "shell.execute_reply": "2025-03-16T12:40:10.602044Z",
     "shell.execute_reply.started": "2025-03-16T12:40:10.595055Z"
    },
    "trusted": true
   },
   "outputs": [
    {
     "name": "stdout",
     "output_type": "stream",
     "text": [
      "Logistic Regression Metrics: {'AUC': 0.8869999322365987, 'Precision': 0.7354709694610745, 'Accuracy': 0.7424242424242424, 'MAE': 1.928030303030303, 'MSE': 15.738636363636363, 'RMSE': 3.967195024653611, 'MAPE': inf}\n",
      "Random Forest Metrics: {'AUC': 0.9138764119612043, 'Precision': 0.7720276040925608, 'Accuracy': 0.8102617079889807, 'MAE': 1.5285812672176309, 'MSE': 12.797865013774105, 'RMSE': 3.5774103781610105, 'MAPE': inf}\n",
      "Extra Trees Metrics: {'AUC': 0.9088280873849723, 'Precision': 0.7689509022516834, 'Accuracy': 0.8057851239669421, 'MAE': 1.5557851239669422, 'MSE': 13.048209366391184, 'RMSE': 3.61223052508989, 'MAPE': inf}\n",
      "Gradient Boosting Metrics: {'AUC': 0.9207936439546457, 'Precision': 0.7607180595447514, 'Accuracy': 0.7992424242424242, 'MAE': 1.5946969696969697, 'MSE': 13.332988980716253, 'RMSE': 3.651436563972631, 'MAPE': inf}\n"
     ]
    }
   ],
   "source": [
    "# Print model evaluation results\n",
    "print(\"Logistic Regression Metrics:\", log_reg_metrics)\n",
    "print(\"Random Forest Metrics:\", rf_metrics)\n",
    "print(\"Extra Trees Metrics:\", et_metrics)\n",
    "print(\"Gradient Boosting Metrics:\", gb_metrics)\n"
   ]
  },
  {
   "cell_type": "code",
   "execution_count": 25,
   "metadata": {
    "execution": {
     "iopub.execute_input": "2025-03-16T12:44:10.431411Z",
     "iopub.status.busy": "2025-03-16T12:44:10.431042Z",
     "iopub.status.idle": "2025-03-16T12:53:39.688055Z",
     "shell.execute_reply": "2025-03-16T12:53:39.687275Z",
     "shell.execute_reply.started": "2025-03-16T12:44:10.431385Z"
    },
    "trusted": true
   },
   "outputs": [
    {
     "name": "stdout",
     "output_type": "stream",
     "text": [
      "                          AUC  Precision  Accuracy       MAE        MSE  \\\n",
      "Logistic Regression  0.887000   0.735471  0.742424  1.928030  15.738636   \n",
      "Random Forest        0.913876   0.772028  0.810262  1.528581  12.797865   \n",
      "Extra Trees          0.908828   0.768951  0.805785  1.555785  13.048209   \n",
      "Gradient Boosting    0.920794   0.760718  0.799242  1.594697  13.332989   \n",
      "\n",
      "                         RMSE  MAPE  \n",
      "Logistic Regression  3.967195   inf  \n",
      "Random Forest        3.577410   inf  \n",
      "Extra Trees          3.612231   inf  \n",
      "Gradient Boosting    3.651437   inf  \n",
      "Best model based on accuracy: Random Forest\n",
      "Metrics saved to 'model_performance_metrics.csv'\n"
     ]
    }
   ],
   "source": [
    "# Train models\n",
    "models = {\n",
    "    \"Logistic Regression\": LogisticRegression(max_iter=1000),\n",
    "    \"Random Forest\": RandomForestClassifier(n_estimators=100, random_state=42),\n",
    "    \"Extra Trees\": ExtraTreesClassifier(n_estimators=100, random_state=42),\n",
    "    \"Gradient Boosting\": GradientBoostingClassifier(n_estimators=100, learning_rate=0.1, random_state=42)\n",
    "}\n",
    "\n",
    "metrics_results = {}\n",
    "\n",
    "for model_name, model in models.items():\n",
    "    model.fit(X_train_scaled if \"Logistic Regression\" in model_name else X_train, y_train)\n",
    "    metrics_results[model_name] = evaluate_model(model, X_test_scaled if \"Logistic Regression\" in model_name else X_test, y_test)\n",
    "\n",
    "# Convert results to DataFrame\n",
    "metrics_df = pd.DataFrame(metrics_results).T\n",
    "print(metrics_df)\n",
    "\n",
    "# Further Analysis\n",
    "best_model = metrics_df[\"Accuracy\"].idxmax()\n",
    "print(f\"Best model based on accuracy: {best_model}\")\n",
    "\n",
    "# Save results to CSV\n",
    "metrics_df.to_csv(\"model_performance_metrics.csv\", index=True)\n",
    "print(\"Metrics saved to 'model_performance_metrics.csv'\")"
   ]
  },
  {
   "cell_type": "code",
   "execution_count": 33,
   "metadata": {},
   "outputs": [
    {
     "name": "stdout",
     "output_type": "stream",
     "text": [
      "Best model saved as 'best_layoff_model.pkl'\n"
     ]
    }
   ],
   "source": [
    "import joblib\n",
    "# Save the best model\n",
    "joblib.dump(best_model, \"best_layoff_model.pkl\")\n",
    "print(f\"Best model saved as 'best_layoff_model.pkl'\")\n"
   ]
  },
  {
   "cell_type": "code",
   "execution_count": 29,
   "metadata": {
    "trusted": true
   },
   "outputs": [
    {
     "data": {
      "image/png": "[encoded data removed]",
      "text/plain": [
       "<Figure size 1000x600 with 1 Axes>"
      ]
     },
     "metadata": {},
     "output_type": "display_data"
    },
    {
     "data": {
      "image/png": "[encoded data removed]",
      "text/plain": [
       "<Figure size 1000x600 with 1 Axes>"
      ]
     },
     "metadata": {},
     "output_type": "display_data"
    }
   ],
   "source": [
    "# Load the dataset\n",
    "df = pd.read_csv(\"E:/assignments/st28629/US_LayOffs/US_LayOffs/Dataset/Iowa_Executive_Branch_Voluntary_and_Involuntary_Employment_Separations.csv\")\n",
    "# Convert dates to datetime format\n",
    "df['Separation Date'] = pd.to_datetime(df['Separation Date'], errors='coerce')\n",
    "df['Pay Period End Date'] = pd.to_datetime(df['Pay Period End Date'], errors='coerce')\n",
    "\n",
    "# Extract year and month from Separation Date\n",
    "\n",
    "df['Year'] = df['Separation Date'].dt.year\n",
    "df['Month'] = df['Separation Date'].dt.month\n",
    "df['Year-Month'] = df['Separation Date'].dt.to_period('M')\n",
    "\n",
    "# Count number of layoffs per month\n",
    "monthly_layoffs = df.groupby('Year-Month').size()\n",
    "\n",
    "# Count number of layoffs per year\n",
    "yearly_layoffs = df.groupby('Year').size()\n",
    "\n",
    "# Visualize trends using line plot\n",
    "import matplotlib.pyplot as plt\n",
    "\n",
    "# Monthly trend plot\n",
    "plt.figure(figsize=(10, 6))\n",
    "monthly_layoffs.plot(kind='line', marker='o')\n",
    "plt.title('Monthly Layoffs Trend')\n",
    "plt.xlabel('Year-Month')\n",
    "plt.ylabel('Number of Layoffs')\n",
    "plt.xticks(rotation=45)\n",
    "plt.tight_layout()\n",
    "plt.show()\n",
    "\n",
    "# Yearly trend plot\n",
    "plt.figure(figsize=(10, 6))\n",
    "yearly_layoffs.plot(kind='line', marker='o', color='orange')\n",
    "plt.title('Yearly Layoffs Trend')\n",
    "plt.xlabel('Year')\n",
    "plt.ylabel('Number of Layoffs')\n",
    "plt.xticks(rotation=45)\n",
    "plt.tight_layout()\n",
    "plt.show()\n"
   ]
  },
  {
   "cell_type": "code",
   "execution_count": null,
   "metadata": {},
   "outputs": [],
   "source": []
  }
 ],
 "metadata": {
  "colab": {
   "provenance": []
  },
  "kaggle": {
   "accelerator": "nvidiaTeslaT4",
   "dataSources": [
    {
     "datasetId": 6883028,
     "sourceId": 11048873,
     "sourceType": "datasetVersion"
    }
   ],
   "dockerImageVersionId": 30919,
   "isGpuEnabled": true,
   "isInternetEnabled": true,
   "language": "python",
   "sourceType": "notebook"
  },
  "kernelspec": {
   "display_name": "Python 3",
   "language": "python",
   "name": "python3"
  },
  "language_info": {
   "codemirror_mode": {
    "name": "ipython",
    "version": 3
   },
   "file_extension": ".py",
   "mimetype": "text/x-python",
   "name": "python",
   "nbconvert_exporter": "python",
   "pygments_lexer": "ipython3",
   "version": "3.10.11"
  }
 },
 "nbformat": 4,
 "nbformat_minor": 4
}
