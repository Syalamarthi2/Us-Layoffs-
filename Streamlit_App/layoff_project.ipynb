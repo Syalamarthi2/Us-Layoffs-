{
  "metadata": {
    "kernelspec": {
      "name": "python3",
      "display_name": "Python 3"
    },
    "language_info": {
      "name": "python",
      "version": "3.10.12",
      "mimetype": "text/x-python",
      "codemirror_mode": {
        "name": "ipython",
        "version": 3
      },
      "pygments_lexer": "ipython3",
      "nbconvert_exporter": "python",
      "file_extension": ".py"
    },
    "colab": {
      "provenance": [],
      "gpuType": "T4"
    },
    "kaggle": {
      "accelerator": "nvidiaTeslaT4",
      "dataSources": [
        {
          "sourceId": 11048873,
          "sourceType": "datasetVersion",
          "datasetId": 6883028
        }
      ],
      "dockerImageVersionId": 30919,
      "isInternetEnabled": true,
      "language": "python",
      "sourceType": "notebook",
      "isGpuEnabled": true
    },
    "accelerator": "GPU"
  },
  "nbformat_minor": 0,
  "nbformat": 4,
  "cells": [
    {
      "cell_type": "code",
      "source": [
        "import pandas as pd\n",
        "import numpy as np\n",
        "from collections import Counter\n",
        "from sklearn.impute import SimpleImputer\n",
        "from sklearn.preprocessing import OneHotEncoder, LabelEncoder\n",
        "from imblearn.over_sampling import SMOTE\n",
        "\n",
        "# Load the dataset\n",
        "df = pd.read_csv(\"/kaggle/input/lay-off-data/Iowa_Executive_Branch_Voluntary_and_Involuntary_Employment_Separations.csv\")\n",
        "df.head()"
      ],
      "metadata": {
        "id": "Tj7g6R73SQpW",
        "trusted": true
      },
      "outputs": [],
      "execution_count": null
    },
    {
      "cell_type": "code",
      "source": [
        "df.info()"
      ],
      "metadata": {
        "id": "MqLgBIJOSQlq",
        "trusted": true
      },
      "outputs": [],
      "execution_count": null
    },
    {
      "cell_type": "code",
      "source": [
        "df.describe()"
      ],
      "metadata": {
        "id": "5sh_knwmSmOt",
        "trusted": true
      },
      "outputs": [],
      "execution_count": null
    },
    {
      "cell_type": "code",
      "source": [
        "# Data Cleaning: Remove duplicates\n",
        "df.drop_duplicates(inplace=True)\n",
        "\n",
        "# Convert dates to datetime format\n",
        "df['Separation Date'] = pd.to_datetime(df['Separation Date'], errors='coerce')\n",
        "df['Pay Period End Date'] = pd.to_datetime(df['Pay Period End Date'], errors='coerce')\n",
        "df.head()"
      ],
      "metadata": {
        "id": "WzmFS9_JSmMr",
        "trusted": true
      },
      "outputs": [],
      "execution_count": null
    },
    {
      "cell_type": "code",
      "source": [
        "# Handle missing values\n",
        "# Convert 'Pay Grade' to numeric, handling non-numeric values\n",
        "df['Pay Grade'] = pd.to_numeric(df['Pay Grade'], errors='coerce')  # Convert to numeric, invalid values become NaN\n",
        "\n",
        "num_imputer = SimpleImputer(strategy='median')\n",
        "df[['Pay Grade']] = num_imputer.fit_transform(df[['Pay Grade']])\n",
        "\n",
        "cat_imputer = SimpleImputer(strategy='most_frequent')\n",
        "df[['Reason', 'Employee Status', 'Sub-Unit of Department']] = cat_imputer.fit_transform(df[['Reason', 'Employee Status', 'Sub-Unit of Department']])\n"
      ],
      "metadata": {
        "id": "_zjQJHb7SmJL",
        "trusted": true
      },
      "outputs": [],
      "execution_count": null
    },
    {
      "cell_type": "code",
      "source": [
        "# Feature Engineering\n",
        "df['Separation Year'] = df['Separation Date'].dt.year\n",
        "df['Recent Layoff'] = df['Separation Year'] >= 2018\n",
        "df['Voluntary/Involuntary'] = df['Reason'].apply(lambda x: 'Voluntary' if 'Retirement' in x else 'Involuntary')\n",
        "df.head()"
      ],
      "metadata": {
        "id": "jleyp0fTSmGW",
        "trusted": true
      },
      "outputs": [],
      "execution_count": null
    },
    {
      "cell_type": "code",
      "source": [
        "# Encode categorical features\n",
        "label_encoder = LabelEncoder()\n",
        "df['Employee Status Encoded'] = label_encoder.fit_transform(df['Employee Status'])\n",
        "\n",
        "one_hot_encoder = OneHotEncoder(handle_unknown='ignore', sparse_output=False)\n",
        "encoded_columns = one_hot_encoder.fit_transform(df[['EEO Category Name']])\n",
        "encoded_df = pd.DataFrame(encoded_columns, columns=[f\"EEO_{col}\" for col in one_hot_encoder.get_feature_names_out()])\n",
        "\n",
        "# Reset index before merging\n",
        "df = df.reset_index(drop=True)\n",
        "encoded_df = encoded_df.reset_index(drop=True)\n",
        "\n",
        "# Drop original categorical column and merge encoded DataFrame\n",
        "df = df.drop(columns=['EEO Category Name']).join(encoded_df)\n",
        "\n",
        "# Handle class imbalance using SMOTE\n",
        "X = df.drop(columns=['Reason'])\n",
        "y = df['Reason']\n",
        "\n",
        "# Convert ALL object type columns to numerical using OneHotEncoding\n",
        "for column in X.select_dtypes(include=['object']).columns:\n",
        "    encoder = OneHotEncoder(sparse_output=False, handle_unknown='ignore')\n",
        "    encoded_data = encoder.fit_transform(X[[column]])\n",
        "    encoded_feature_names = encoder.get_feature_names_out([column])\n",
        "    encoded_df = pd.DataFrame(encoded_data, columns=encoded_feature_names, index=X.index)\n",
        "    X = X.drop(columns=[column]).join(encoded_df)\n",
        "\n",
        "# Check class distribution before SMOTE\n",
        "print(\"Class distribution before SMOTE:\", Counter(y))\n",
        "\n",
        "# Apply SMOTE only if there are enough samples\n",
        "if len(Counter(y)) > 1 and min(Counter(y).values()) >= 2:  # Ensure enough samples for resampling\n",
        "    smote = SMOTE(sampling_strategy='auto', random_state=42, k_neighbors=2)\n",
        "    X_resampled, y_resampled = smote.fit_resample(X, y)\n",
        "    df_resampled = pd.concat([\n",
        "        pd.DataFrame(X_resampled, columns=X.columns),\n",
        "        pd.DataFrame(y_resampled, columns=['Reason'])\n",
        "    ], axis=1)\n",
        "    print(\"SMOTE applied successfully.\")\n",
        "else:\n",
        "    print(\"Not enough class variation for SMOTE. Proceeding without resampling.\")\n",
        "    df_resampled = df\n",
        "\n",
        "# Save the processed data\n",
        "df_resampled.to_csv(\"processed_layoff_data.csv\", index=False)\n",
        "print(\"Preprocessing complete. Data saved as 'processed_layoff_data.csv'\")\n"
      ],
      "metadata": {
        "id": "_8VNoUKKSQi5",
        "trusted": true
      },
      "outputs": [],
      "execution_count": null
    },
    {
      "cell_type": "code",
      "source": [
        "from sklearn.model_selection import train_test_split\n",
        "from sklearn.preprocessing import StandardScaler, LabelEncoder, OneHotEncoder\n",
        "from sklearn.utils import resample\n",
        "from sklearn.linear_model import LogisticRegression\n",
        "from sklearn.ensemble import RandomForestClassifier, GradientBoostingClassifier, ExtraTreesClassifier\n",
        "from sklearn.svm import SVC\n",
        "from sklearn.metrics import roc_auc_score, precision_score, accuracy_score, mean_absolute_error, mean_squared_error\n",
        "import pandas as pd\n",
        "import numpy as np"
      ],
      "metadata": {
        "id": "zxePaXwdSRl6",
        "trusted": true,
        "execution": {
          "iopub.status.busy": "2025-03-16T12:30:28.297530Z",
          "iopub.execute_input": "2025-03-16T12:30:28.297852Z",
          "iopub.status.idle": "2025-03-16T12:30:28.622331Z",
          "shell.execute_reply.started": "2025-03-16T12:30:28.297826Z",
          "shell.execute_reply": "2025-03-16T12:30:28.621678Z"
        }
      },
      "outputs": [],
      "execution_count": 34
    },
    {
      "cell_type": "code",
      "source": [
        "# Load processed data\n",
        "df = pd.read_csv(\"processed_layoff_data.csv\")"
      ],
      "metadata": {
        "trusted": true,
        "execution": {
          "iopub.status.busy": "2025-03-16T12:30:28.623277Z",
          "iopub.execute_input": "2025-03-16T12:30:28.623597Z",
          "iopub.status.idle": "2025-03-16T12:30:28.681186Z",
          "shell.execute_reply.started": "2025-03-16T12:30:28.623576Z",
          "shell.execute_reply": "2025-03-16T12:30:28.680550Z"
        },
        "id": "9R6FOfRxAN18"
      },
      "outputs": [],
      "execution_count": 35
    },
    {
      "cell_type": "code",
      "source": [
        "df.info()"
      ],
      "metadata": {
        "trusted": true,
        "execution": {
          "iopub.status.busy": "2025-03-16T12:30:28.682170Z",
          "iopub.execute_input": "2025-03-16T12:30:28.682475Z",
          "iopub.status.idle": "2025-03-16T12:30:28.698593Z",
          "shell.execute_reply.started": "2025-03-16T12:30:28.682451Z",
          "shell.execute_reply": "2025-03-16T12:30:28.697855Z"
        },
        "colab": {
          "base_uri": "https://localhost:8080/"
        },
        "id": "kZfAyK4XAN18",
        "outputId": "05471739-52d4-4cb7-e60a-c324ef6c754c"
      },
      "outputs": [
        {
          "output_type": "stream",
          "name": "stdout",
          "text": [
            "<class 'pandas.core.frame.DataFrame'>\n",
            "RangeIndex: 14499 entries, 0 to 14498\n",
            "Data columns (total 24 columns):\n",
            " #   Column                                             Non-Null Count  Dtype  \n",
            "---  ------                                             --------------  -----  \n",
            " 0   Record Number                                      14499 non-null  int64  \n",
            " 1   Fiscal Year                                        14499 non-null  int64  \n",
            " 2   Department Name                                    14499 non-null  object \n",
            " 3   Sub-Unit of Department                             14499 non-null  object \n",
            " 4   Reason                                             14499 non-null  object \n",
            " 5   Employee Status                                    14499 non-null  object \n",
            " 6   Pay Plan                                           14454 non-null  object \n",
            " 7   Pay Grade                                          14499 non-null  float64\n",
            " 8   Classification Title                               14454 non-null  object \n",
            " 9   Separation Date                                    14499 non-null  object \n",
            " 10  Pay Period End Date                                14499 non-null  object \n",
            " 11  Current Fiscal Year                                14499 non-null  bool   \n",
            " 12  Separation Year                                    14499 non-null  int64  \n",
            " 13  Recent Layoff                                      14499 non-null  bool   \n",
            " 14  Voluntary/Involuntary                              14499 non-null  object \n",
            " 15  Employee Status Encoded                            14499 non-null  int64  \n",
            " 16  EEO_EEO Category Name_Administrative Support       14499 non-null  float64\n",
            " 17  EEO_EEO Category Name_Official/Administrator       14499 non-null  float64\n",
            " 18  EEO_EEO Category Name_Professional                 14499 non-null  float64\n",
            " 19  EEO_EEO Category Name_Protective Services - Sworn  14499 non-null  float64\n",
            " 20  EEO_EEO Category Name_Service/Maintenance          14499 non-null  float64\n",
            " 21  EEO_EEO Category Name_Skilled Craft                14499 non-null  float64\n",
            " 22  EEO_EEO Category Name_Technician                   14499 non-null  float64\n",
            " 23  EEO_EEO Category Name_nan                          14499 non-null  float64\n",
            "dtypes: bool(2), float64(9), int64(4), object(9)\n",
            "memory usage: 2.5+ MB\n"
          ]
        }
      ],
      "execution_count": 36
    },
    {
      "cell_type": "code",
      "source": [
        "df['Reason'].value_counts()"
      ],
      "metadata": {
        "trusted": true,
        "execution": {
          "iopub.status.busy": "2025-03-16T12:30:31.963433Z",
          "iopub.execute_input": "2025-03-16T12:30:31.963753Z",
          "iopub.status.idle": "2025-03-16T12:30:31.971914Z",
          "shell.execute_reply.started": "2025-03-16T12:30:31.963731Z",
          "shell.execute_reply": "2025-03-16T12:30:31.971039Z"
        },
        "colab": {
          "base_uri": "https://localhost:8080/",
          "height": 492
        },
        "id": "FjjjJlgzAN19",
        "outputId": "e8df06bc-3d13-46d6-ea5c-f3e55dae97c7"
      },
      "outputs": [
        {
          "output_type": "execute_result",
          "data": {
            "text/plain": [
              "Reason\n",
              "Voluntary Resignation      6272\n",
              "Retirement                 5101\n",
              "Involuntary Dismissal      1773\n",
              "Involuntary Layoff          441\n",
              "Disability/Medical          288\n",
              "Abandoned Job               200\n",
              "Involuntary Resignation     186\n",
              "Death                       180\n",
              "Return to Recall             37\n",
              "Term Expiration              18\n",
              "Mandatory Retirement          2\n",
              "Pending Appeal                1\n",
              "Name: count, dtype: int64"
            ],
            "text/html": [
              "<div>\n",
              "<style scoped>\n",
              "    .dataframe tbody tr th:only-of-type {\n",
              "        vertical-align: middle;\n",
              "    }\n",
              "\n",
              "    .dataframe tbody tr th {\n",
              "        vertical-align: top;\n",
              "    }\n",
              "\n",
              "    .dataframe thead th {\n",
              "        text-align: right;\n",
              "    }\n",
              "</style>\n",
              "<table border=\"1\" class=\"dataframe\">\n",
              "  <thead>\n",
              "    <tr style=\"text-align: right;\">\n",
              "      <th></th>\n",
              "      <th>count</th>\n",
              "    </tr>\n",
              "    <tr>\n",
              "      <th>Reason</th>\n",
              "      <th></th>\n",
              "    </tr>\n",
              "  </thead>\n",
              "  <tbody>\n",
              "    <tr>\n",
              "      <th>Voluntary Resignation</th>\n",
              "      <td>6272</td>\n",
              "    </tr>\n",
              "    <tr>\n",
              "      <th>Retirement</th>\n",
              "      <td>5101</td>\n",
              "    </tr>\n",
              "    <tr>\n",
              "      <th>Involuntary Dismissal</th>\n",
              "      <td>1773</td>\n",
              "    </tr>\n",
              "    <tr>\n",
              "      <th>Involuntary Layoff</th>\n",
              "      <td>441</td>\n",
              "    </tr>\n",
              "    <tr>\n",
              "      <th>Disability/Medical</th>\n",
              "      <td>288</td>\n",
              "    </tr>\n",
              "    <tr>\n",
              "      <th>Abandoned Job</th>\n",
              "      <td>200</td>\n",
              "    </tr>\n",
              "    <tr>\n",
              "      <th>Involuntary Resignation</th>\n",
              "      <td>186</td>\n",
              "    </tr>\n",
              "    <tr>\n",
              "      <th>Death</th>\n",
              "      <td>180</td>\n",
              "    </tr>\n",
              "    <tr>\n",
              "      <th>Return to Recall</th>\n",
              "      <td>37</td>\n",
              "    </tr>\n",
              "    <tr>\n",
              "      <th>Term Expiration</th>\n",
              "      <td>18</td>\n",
              "    </tr>\n",
              "    <tr>\n",
              "      <th>Mandatory Retirement</th>\n",
              "      <td>2</td>\n",
              "    </tr>\n",
              "    <tr>\n",
              "      <th>Pending Appeal</th>\n",
              "      <td>1</td>\n",
              "    </tr>\n",
              "  </tbody>\n",
              "</table>\n",
              "</div><br><label><b>dtype:</b> int64</label>"
            ]
          },
          "metadata": {},
          "execution_count": 37
        }
      ],
      "execution_count": 37
    },
    {
      "cell_type": "code",
      "source": [
        "# Label encode the 'Reason' column\n",
        "label_encoder = LabelEncoder()\n",
        "df['Reason'] = label_encoder.fit_transform(df['Reason'])\n"
      ],
      "metadata": {
        "trusted": true,
        "execution": {
          "iopub.status.busy": "2025-03-16T12:30:32.132092Z",
          "iopub.execute_input": "2025-03-16T12:30:32.132309Z",
          "iopub.status.idle": "2025-03-16T12:30:32.138598Z",
          "shell.execute_reply.started": "2025-03-16T12:30:32.132291Z",
          "shell.execute_reply": "2025-03-16T12:30:32.137695Z"
        },
        "id": "dD07xfQpAN19"
      },
      "outputs": [],
      "execution_count": 38
    },
    {
      "cell_type": "code",
      "source": [],
      "metadata": {
        "id": "wEAXVvCAKkwu"
      },
      "execution_count": null,
      "outputs": []
    },
    {
      "cell_type": "code",
      "source": [
        "# One-hot encode categorical columns\n",
        "categorical_columns = df.select_dtypes(include=['object']).columns\n",
        "df = pd.get_dummies(df, columns=categorical_columns, drop_first=True)\n"
      ],
      "metadata": {
        "trusted": true,
        "execution": {
          "iopub.status.busy": "2025-03-16T12:30:33.998545Z",
          "iopub.execute_input": "2025-03-16T12:30:33.998838Z",
          "iopub.status.idle": "2025-03-16T12:30:34.076838Z",
          "shell.execute_reply.started": "2025-03-16T12:30:33.998817Z",
          "shell.execute_reply": "2025-03-16T12:30:34.076055Z"
        },
        "id": "19aGn4gMAN19"
      },
      "outputs": [],
      "execution_count": 39
    },
    {
      "cell_type": "code",
      "source": [
        "# Balance the dataset by augmenting minor classes\n",
        "class_counts = df['Reason'].value_counts()\n",
        "min_class_count = max(10, class_counts.min())  # Ensure at least 10 samples per class\n"
      ],
      "metadata": {
        "trusted": true,
        "execution": {
          "iopub.status.busy": "2025-03-16T12:30:34.196719Z",
          "iopub.execute_input": "2025-03-16T12:30:34.196985Z",
          "iopub.status.idle": "2025-03-16T12:30:34.201832Z",
          "shell.execute_reply.started": "2025-03-16T12:30:34.196963Z",
          "shell.execute_reply": "2025-03-16T12:30:34.201146Z"
        },
        "id": "kkMOLRsCAN1-"
      },
      "outputs": [],
      "execution_count": 40
    },
    {
      "cell_type": "code",
      "source": [
        "df_balanced = pd.DataFrame()\n",
        "for class_label, count in class_counts.items():\n",
        "    class_subset = df[df['Reason'] == class_label]\n",
        "    if count < min_class_count:\n",
        "        class_subset = resample(class_subset, replace=True, n_samples=min_class_count, random_state=42)\n",
        "    df_balanced = pd.concat([df_balanced, class_subset])\n",
        "\n",
        "df_balanced = df_balanced.sample(frac=1, random_state=42).reset_index(drop=True)  # Shuffle dataset\n"
      ],
      "metadata": {
        "trusted": true,
        "execution": {
          "iopub.status.busy": "2025-03-16T12:30:35.666503Z",
          "iopub.execute_input": "2025-03-16T12:30:35.666790Z",
          "iopub.status.idle": "2025-03-16T12:30:36.108082Z",
          "shell.execute_reply.started": "2025-03-16T12:30:35.666770Z",
          "shell.execute_reply": "2025-03-16T12:30:36.107307Z"
        },
        "id": "Zb2_MoxOAN1-"
      },
      "outputs": [],
      "execution_count": 41
    },
    {
      "cell_type": "code",
      "source": [
        "# Define features and target\n",
        "X = df_balanced.drop(columns=['Reason'])\n",
        "y = df_balanced['Reason']\n"
      ],
      "metadata": {
        "trusted": true,
        "execution": {
          "iopub.status.busy": "2025-03-16T12:30:36.108930Z",
          "iopub.execute_input": "2025-03-16T12:30:36.109146Z",
          "iopub.status.idle": "2025-03-16T12:30:36.130646Z",
          "shell.execute_reply.started": "2025-03-16T12:30:36.109127Z",
          "shell.execute_reply": "2025-03-16T12:30:36.129960Z"
        },
        "id": "84pjl6OvAN1-"
      },
      "outputs": [],
      "execution_count": 42
    },
    {
      "cell_type": "code",
      "source": [
        "X.columns"
      ],
      "metadata": {
        "colab": {
          "base_uri": "https://localhost:8080/"
        },
        "id": "Cg44NeR8DEwZ",
        "outputId": "059e18f2-96b2-4d56-e449-85dcaa611013"
      },
      "execution_count": 43,
      "outputs": [
        {
          "output_type": "execute_result",
          "data": {
            "text/plain": [
              "Index(['Record Number', 'Fiscal Year', 'Pay Grade', 'Current Fiscal Year',\n",
              "       'Separation Year', 'Recent Layoff', 'Employee Status Encoded',\n",
              "       'EEO_EEO Category Name_Administrative Support',\n",
              "       'EEO_EEO Category Name_Official/Administrator',\n",
              "       'EEO_EEO Category Name_Professional',\n",
              "       ...\n",
              "       'Pay Period End Date_2021-04-29', 'Pay Period End Date_2021-05-13',\n",
              "       'Pay Period End Date_2021-05-27', 'Pay Period End Date_2021-06-10',\n",
              "       'Pay Period End Date_2021-06-24', 'Pay Period End Date_2021-07-08',\n",
              "       'Pay Period End Date_2021-07-22', 'Pay Period End Date_2021-08-05',\n",
              "       'Pay Period End Date_2021-08-19', 'Voluntary/Involuntary_Voluntary'],\n",
              "      dtype='object', length=3726)"
            ]
          },
          "metadata": {},
          "execution_count": 43
        }
      ]
    },
    {
      "cell_type": "code",
      "source": [
        "# Split the dataset into training and testing sets\n",
        "X_train, X_test, y_train, y_test = train_test_split(X, y, test_size=0.2, random_state=42, stratify=y)"
      ],
      "metadata": {
        "trusted": true,
        "execution": {
          "iopub.status.busy": "2025-03-16T12:30:39.847549Z",
          "iopub.execute_input": "2025-03-16T12:30:39.847842Z",
          "iopub.status.idle": "2025-03-16T12:30:39.931123Z",
          "shell.execute_reply.started": "2025-03-16T12:30:39.847822Z",
          "shell.execute_reply": "2025-03-16T12:30:39.930442Z"
        },
        "id": "nr20zIQWAN1-"
      },
      "outputs": [],
      "execution_count": 44
    },
    {
      "cell_type": "code",
      "source": [
        "# Standardize the features\n",
        "scaler = StandardScaler()\n",
        "X_train_scaled = scaler.fit_transform(X_train)\n",
        "X_test_scaled = scaler.transform(X_test)\n"
      ],
      "metadata": {
        "trusted": true,
        "execution": {
          "iopub.status.busy": "2025-03-16T12:30:40.058145Z",
          "iopub.execute_input": "2025-03-16T12:30:40.058435Z",
          "iopub.status.idle": "2025-03-16T12:30:42.180137Z",
          "shell.execute_reply.started": "2025-03-16T12:30:40.058413Z",
          "shell.execute_reply": "2025-03-16T12:30:42.179204Z"
        },
        "id": "iv4k5adGAN1-"
      },
      "outputs": [],
      "execution_count": 45
    },
    {
      "cell_type": "code",
      "source": [
        "# Function to evaluate model performance\n",
        "def evaluate_model(model, X_test, y_test):\n",
        "    y_pred = model.predict(X_test)\n",
        "    if hasattr(model, \"predict_proba\"):\n",
        "        y_pred_proba = model.predict_proba(X_test)\n",
        "    else:\n",
        "        y_pred_proba = np.zeros((len(y_pred), len(np.unique(y_test))))\n",
        "\n",
        "    auc = roc_auc_score(y_test, y_pred_proba, multi_class='ovr', average='weighted')\n",
        "    precision = precision_score(y_test, y_pred, average='weighted')\n",
        "    accuracy = accuracy_score(y_test, y_pred)\n",
        "    mae = mean_absolute_error(y_test, y_pred)\n",
        "    mse = mean_squared_error(y_test, y_pred)\n",
        "    rmse = np.sqrt(mse)\n",
        "    mape = np.mean(np.abs((y_test - y_pred) / y_test)) * 100\n",
        "\n",
        "    return {\"AUC\": auc, \"Precision\": precision, \"Accuracy\": accuracy, \"MAE\": mae, \"MSE\": mse, \"RMSE\": rmse, \"MAPE\": mape}\n"
      ],
      "metadata": {
        "trusted": true,
        "execution": {
          "iopub.status.busy": "2025-03-16T12:30:42.769731Z",
          "iopub.execute_input": "2025-03-16T12:30:42.770015Z",
          "iopub.status.idle": "2025-03-16T12:30:42.775386Z",
          "shell.execute_reply.started": "2025-03-16T12:30:42.769994Z",
          "shell.execute_reply": "2025-03-16T12:30:42.774451Z"
        },
        "id": "bcFljnuzAN1-"
      },
      "outputs": [],
      "execution_count": 12
    },
    {
      "cell_type": "markdown",
      "source": [
        "### Logistic Regression Model\n"
      ],
      "metadata": {
        "id": "RICtsRYCAN1-"
      }
    },
    {
      "cell_type": "code",
      "source": [
        "log_reg = LogisticRegression(max_iter=1000)\n",
        "log_reg.fit(X_train_scaled, y_train)\n",
        "log_reg_metrics = evaluate_model(log_reg, X_test_scaled, y_test)\n"
      ],
      "metadata": {
        "trusted": true,
        "execution": {
          "iopub.status.busy": "2025-03-16T12:30:44.504829Z",
          "iopub.execute_input": "2025-03-16T12:30:44.505132Z",
          "iopub.status.idle": "2025-03-16T12:31:51.028732Z",
          "shell.execute_reply.started": "2025-03-16T12:30:44.505108Z",
          "shell.execute_reply": "2025-03-16T12:31:51.027721Z"
        },
        "id": "N1ChPfbUAN1_",
        "outputId": "9e3e23c3-bca5-46f8-bb65-868a97a4e4d3"
      },
      "outputs": [
        {
          "name": "stderr",
          "text": "/usr/local/lib/python3.10/dist-packages/sklearn/linear_model/_logistic.py:458: ConvergenceWarning: lbfgs failed to converge (status=1):\nSTOP: TOTAL NO. of ITERATIONS REACHED LIMIT.\n\nIncrease the number of iterations (max_iter) or scale the data as shown in:\n    https://scikit-learn.org/stable/modules/preprocessing.html\nPlease also refer to the documentation for alternative solver options:\n    https://scikit-learn.org/stable/modules/linear_model.html#logistic-regression\n  n_iter_i = _check_optimize_result(\n",
          "output_type": "stream"
        }
      ],
      "execution_count": null
    },
    {
      "cell_type": "markdown",
      "source": [
        "### Random Forest Classifier\n"
      ],
      "metadata": {
        "id": "sFUpcPZiAN1_"
      }
    },
    {
      "cell_type": "code",
      "source": [
        "pip install joblib"
      ],
      "metadata": {
        "colab": {
          "base_uri": "https://localhost:8080/"
        },
        "id": "EemynTA7AxPj",
        "outputId": "9dad688b-8af9-43e2-fe27-d36811185ce2"
      },
      "execution_count": 13,
      "outputs": [
        {
          "output_type": "stream",
          "name": "stdout",
          "text": [
            "Requirement already satisfied: joblib in /usr/local/lib/python3.11/dist-packages (1.4.2)\n"
          ]
        }
      ]
    },
    {
      "cell_type": "code",
      "source": [
        "rf_clf = RandomForestClassifier(n_estimators=100, random_state=42)\n",
        "rf_clf.fit(X_train, y_train)\n",
        "rf_metrics = evaluate_model(rf_clf, X_test, y_test)\n",
        "import joblib\n",
        "joblib.dump(rf_clf, \"best_layoff_model.pkl\")\n"
      ],
      "metadata": {
        "trusted": true,
        "execution": {
          "iopub.status.busy": "2025-03-16T12:31:51.029757Z",
          "iopub.execute_input": "2025-03-16T12:31:51.030063Z",
          "iopub.status.idle": "2025-03-16T12:32:08.867891Z",
          "shell.execute_reply.started": "2025-03-16T12:31:51.030028Z",
          "shell.execute_reply": "2025-03-16T12:32:08.867136Z"
        },
        "colab": {
          "base_uri": "https://localhost:8080/"
        },
        "id": "jJ7okIFXAN1_",
        "outputId": "80b69680-bff8-4326-cfc4-290efa20660f"
      },
      "outputs": [
        {
          "output_type": "execute_result",
          "data": {
            "text/plain": [
              "['best_layoff_model.pkl']"
            ]
          },
          "metadata": {},
          "execution_count": 46
        }
      ],
      "execution_count": 46
    },
    {
      "cell_type": "code",
      "source": [
        "import joblib\n",
        "\n",
        "# Save the trained model\n",
        "joblib.dump(rf_clf, \"best_layoff_model.pkl\")\n",
        "\n",
        "# Save the label encoder (\n",
        "joblib.dump(label_encoder, \"label_encoder.pkl\")\n",
        "\n",
        "# Save the scaler\n",
        "joblib.dump(scaler, \"scaler.pkl\")\n",
        "\n",
        "print(\"Model, Label Encoder, and Scaler saved successfully!\")\n"
      ],
      "metadata": {
        "colab": {
          "base_uri": "https://localhost:8080/"
        },
        "id": "91YXX7ONGbYZ",
        "outputId": "e7060214-e45e-4fb5-a4cc-705196b6bf29"
      },
      "execution_count": 47,
      "outputs": [
        {
          "output_type": "stream",
          "name": "stdout",
          "text": [
            "Model, Label Encoder, and Scaler saved successfully!\n"
          ]
        }
      ]
    },
    {
      "cell_type": "code",
      "source": [
        "import joblib\n",
        "import numpy as np\n",
        "import pandas as pd\n",
        "\n",
        "# Load trained model and preprocessing tools\n",
        "model = joblib.load(\"best_layoff_model.pkl\")\n",
        "scaler = joblib.load(\"scaler.pkl\")\n",
        "trained_columns = joblib.load(\"X_train_columns.pkl\")\n",
        "\n",
        "# Get user input\n",
        "record_number = int(input(\"Enter Record Number: \"))\n",
        "fiscal_year = int(input(\"Enter Fiscal Year: \"))\n",
        "pay_grade = float(input(\"Enter Pay Grade: \"))\n",
        "separation_year = int(input(\"Enter Separation Year: \"))\n",
        "\n",
        "# Categorical Inputs\n",
        "department_name = input(\"Enter Department Name: \")\n",
        "sub_unit = input(\"Enter Sub-Unit of Department: \")\n",
        "employee_status = input(\"Enter Employee Status (Permanent/Temporary): \")\n",
        "pay_plan = input(\"Enter Pay Plan: \")\n",
        "classification_title = input(\"Enter Classification Title: \")\n",
        "voluntary_status = input(\"Enter Voluntary/Involuntary Status: \")\n",
        "eeo_category = input(\"Enter EEO Category (Administrative Support, Official/Administrator, etc.): \")\n",
        "\n",
        "# Boolean Inputs\n",
        "current_fiscal_year = bool(int(input(\"Is it the Current Fiscal Year? (1 for Yes, 0 for No): \")))\n",
        "recent_layoff = bool(int(input(\"Was there a Recent Layoff? (1 for Yes, 0 for No): \")))\n",
        "\n",
        "# Create an empty DataFrame with the same columns as training\n",
        "user_data = pd.DataFrame(columns=trained_columns)\n",
        "user_data.loc[0] = [0] * len(trained_columns)  # Initialize with zeros\n",
        "\n",
        "# Assign numerical inputs\n",
        "user_data.at[0, 'Record Number'] = record_number\n",
        "user_data.at[0, 'Fiscal Year'] = fiscal_year\n",
        "user_data.at[0, 'Pay Grade'] = pay_grade\n",
        "user_data.at[0, 'Separation Year'] = separation_year\n",
        "user_data.at[0, 'Current Fiscal Year'] = current_fiscal_year\n",
        "user_data.at[0, 'Recent Layoff'] = recent_layoff\n",
        "\n",
        "# One-hot encode categorical inputs\n",
        "for col in trained_columns:\n",
        "    if f'Department Name_{department_name}' == col:\n",
        "        user_data.at[0, col] = 1\n",
        "    if f'Sub-Unit of Department_{sub_unit}' == col:\n",
        "        user_data.at[0, col] = 1\n",
        "    if f'Employee Status_{employee_status}' == col:\n",
        "        user_data.at[0, col] = 1\n",
        "    if f'Pay Plan_{pay_plan}' == col:\n",
        "        user_data.at[0, col] = 1\n",
        "    if f'Classification Title_{classification_title}' == col:\n",
        "        user_data.at[0, col] = 1\n",
        "    if f'Voluntary/Involuntary_{voluntary_status}' == col:\n",
        "        user_data.at[0, col] = 1\n",
        "    if f'EEO_EEO Category Name_{eeo_category}' == col:\n",
        "        user_data.at[0, col] = 1\n",
        "\n",
        "# Ensure correct feature order\n",
        "user_data = user_data[trained_columns]\n",
        "\n",
        "# Standardize numerical features\n",
        "user_scaled = scaler.transform(user_data)\n",
        "\n",
        "# Make Prediction\n",
        "prediction = model.predict(user_scaled)\n",
        "\n",
        "# Load label encoder to decode the prediction\n",
        "label_encoder = joblib.load(\"label_encoder.pkl\")\n",
        "predicted_reason = label_encoder.inverse_transform(prediction)[0]\n",
        "\n",
        "# Display Result\n",
        "print(f\"\\nPredicted Layoff Reason: **{predicted_reason}**\")\n"
      ],
      "metadata": {
        "colab": {
          "base_uri": "https://localhost:8080/"
        },
        "id": "6ozUCI1fFz_5",
        "outputId": "544a7b7a-699c-4063-f06a-8a1220ae7673"
      },
      "execution_count": 50,
      "outputs": [
        {
          "output_type": "stream",
          "name": "stdout",
          "text": [
            "Enter Record Number: 10234\n",
            "Enter Fiscal Year: 2023\n",
            "Enter Pay Grade: 5.0\n",
            "Enter Separation Year: 2023\n",
            "Enter Department Name: Human Resources\n",
            "Enter Sub-Unit of Department: HR Administration\n",
            "Enter Employee Status (Permanent/Temporary): Permanent\n",
            "Enter Pay Plan: General\n",
            "Enter Classification Title: HR Specialist\n",
            "Enter Voluntary/Involuntary Status: Voluntary\n",
            "Enter EEO Category (Administrative Support, Official/Administrator, etc.): Professional\n",
            "Is it the Current Fiscal Year? (1 for Yes, 0 for No): 1\n",
            "Was there a Recent Layoff? (1 for Yes, 0 for No): 0\n",
            "\n",
            "✅ Predicted Layoff Reason: **Retirement**\n"
          ]
        },
        {
          "output_type": "stream",
          "name": "stderr",
          "text": [
            "<ipython-input-50-f8c811f53ea3>:38: FutureWarning: Setting an item of incompatible dtype is deprecated and will raise an error in a future version of pandas. Value 'True' has dtype incompatible with int64, please explicitly cast to a compatible dtype first.\n",
            "  user_data.at[0, 'Current Fiscal Year'] = current_fiscal_year\n",
            "<ipython-input-50-f8c811f53ea3>:39: FutureWarning: Setting an item of incompatible dtype is deprecated and will raise an error in a future version of pandas. Value 'False' has dtype incompatible with int64, please explicitly cast to a compatible dtype first.\n",
            "  user_data.at[0, 'Recent Layoff'] = recent_layoff\n",
            "/usr/local/lib/python3.11/dist-packages/sklearn/utils/validation.py:2739: UserWarning: X does not have valid feature names, but RandomForestClassifier was fitted with feature names\n",
            "  warnings.warn(\n"
          ]
        }
      ]
    },
    {
      "cell_type": "code",
      "source": [
        "from google.colab import files\n",
        "\n",
        "# Download the file\n",
        "files.download(\"best_layoff_model.pkl\")\n"
      ],
      "metadata": {
        "colab": {
          "base_uri": "https://localhost:8080/",
          "height": 17
        },
        "id": "Uj0cinOrBecQ",
        "outputId": "ba508ab8-2a42-489e-a16a-77aa96fcedbf"
      },
      "execution_count": 51,
      "outputs": [
        {
          "output_type": "display_data",
          "data": {
            "text/plain": [
              "<IPython.core.display.Javascript object>"
            ],
            "application/javascript": [
              "\n",
              "    async function download(id, filename, size) {\n",
              "      if (!google.colab.kernel.accessAllowed) {\n",
              "        return;\n",
              "      }\n",
              "      const div = document.createElement('div');\n",
              "      const label = document.createElement('label');\n",
              "      label.textContent = `Downloading \"${filename}\": `;\n",
              "      div.appendChild(label);\n",
              "      const progress = document.createElement('progress');\n",
              "      progress.max = size;\n",
              "      div.appendChild(progress);\n",
              "      document.body.appendChild(div);\n",
              "\n",
              "      const buffers = [];\n",
              "      let downloaded = 0;\n",
              "\n",
              "      const channel = await google.colab.kernel.comms.open(id);\n",
              "      // Send a message to notify the kernel that we're ready.\n",
              "      channel.send({})\n",
              "\n",
              "      for await (const message of channel.messages) {\n",
              "        // Send a message to notify the kernel that we're ready.\n",
              "        channel.send({})\n",
              "        if (message.buffers) {\n",
              "          for (const buffer of message.buffers) {\n",
              "            buffers.push(buffer);\n",
              "            downloaded += buffer.byteLength;\n",
              "            progress.value = downloaded;\n",
              "          }\n",
              "        }\n",
              "      }\n",
              "      const blob = new Blob(buffers, {type: 'application/binary'});\n",
              "      const a = document.createElement('a');\n",
              "      a.href = window.URL.createObjectURL(blob);\n",
              "      a.download = filename;\n",
              "      div.appendChild(a);\n",
              "      a.click();\n",
              "      div.remove();\n",
              "    }\n",
              "  "
            ]
          },
          "metadata": {}
        },
        {
          "output_type": "display_data",
          "data": {
            "text/plain": [
              "<IPython.core.display.Javascript object>"
            ],
            "application/javascript": [
              "download(\"download_186c6032-ea88-45b2-93a8-a4c696a05c10\", \"best_layoff_model.pkl\", 128165849)"
            ]
          },
          "metadata": {}
        }
      ]
    },
    {
      "cell_type": "markdown",
      "source": [
        "### Extra Trees Classifier\n"
      ],
      "metadata": {
        "id": "_MgF25ORAN1_"
      }
    },
    {
      "cell_type": "code",
      "source": [
        "et_clf = ExtraTreesClassifier(n_estimators=100, random_state=42)\n",
        "et_clf.fit(X_train, y_train)\n",
        "et_metrics = evaluate_model(et_clf, X_test, y_test)\n"
      ],
      "metadata": {
        "trusted": true,
        "execution": {
          "iopub.status.busy": "2025-03-16T12:32:08.869524Z",
          "iopub.execute_input": "2025-03-16T12:32:08.869870Z",
          "iopub.status.idle": "2025-03-16T12:32:33.940949Z",
          "shell.execute_reply.started": "2025-03-16T12:32:08.869841Z",
          "shell.execute_reply": "2025-03-16T12:32:33.939950Z"
        },
        "id": "6QMYkmApAN1_"
      },
      "outputs": [],
      "execution_count": null
    },
    {
      "cell_type": "markdown",
      "source": [
        "### Gradient Boosting Classifier"
      ],
      "metadata": {
        "id": "BTMDda0LAN2A"
      }
    },
    {
      "cell_type": "code",
      "source": [
        "gb_clf = GradientBoostingClassifier(n_estimators=100, learning_rate=0.1, random_state=42)\n",
        "gb_clf.fit(X_train, y_train)\n",
        "gb_metrics = evaluate_model(gb_clf, X_test, y_test)"
      ],
      "metadata": {
        "trusted": true,
        "execution": {
          "iopub.status.busy": "2025-03-16T12:32:33.941998Z",
          "iopub.execute_input": "2025-03-16T12:32:33.942258Z",
          "iopub.status.idle": "2025-03-16T12:40:10.593886Z",
          "shell.execute_reply.started": "2025-03-16T12:32:33.942237Z",
          "shell.execute_reply": "2025-03-16T12:40:10.593120Z"
        },
        "id": "-AS8evtlAN2A"
      },
      "outputs": [],
      "execution_count": null
    },
    {
      "cell_type": "code",
      "source": [
        "# Print model evaluation results\n",
        "print(\"Logistic Regression Metrics:\", log_reg_metrics)\n",
        "print(\"Random Forest Metrics:\", rf_metrics)\n",
        "print(\"Extra Trees Metrics:\", et_metrics)\n",
        "print(\"Gradient Boosting Metrics:\", gb_metrics)\n"
      ],
      "metadata": {
        "trusted": true,
        "execution": {
          "iopub.status.busy": "2025-03-16T12:40:10.594779Z",
          "iopub.execute_input": "2025-03-16T12:40:10.595084Z",
          "iopub.status.idle": "2025-03-16T12:40:10.602715Z",
          "shell.execute_reply.started": "2025-03-16T12:40:10.595055Z",
          "shell.execute_reply": "2025-03-16T12:40:10.602044Z"
        },
        "id": "Sjq6DLM9AN2A",
        "outputId": "a08924de-58f8-455d-cbaf-8653c38204c7"
      },
      "outputs": [
        {
          "name": "stdout",
          "text": "Logistic Regression Metrics: {'AUC': 0.8897774437402938, 'Precision': 0.735195801140307, 'Accuracy': 0.746900826446281, 'MAE': 1.9118457300275482, 'MSE': 15.668044077134986, 'RMSE': 3.9582880235191307, 'MAPE': inf}\nRandom Forest Metrics: {'AUC': 0.9138764119612043, 'Precision': 0.7720276040925608, 'Accuracy': 0.8102617079889807, 'MAE': 1.5285812672176309, 'MSE': 12.797865013774105, 'RMSE': 3.5774103781610105, 'MAPE': inf}\nExtra Trees Metrics: {'AUC': 0.9088280873849723, 'Precision': 0.7689509022516834, 'Accuracy': 0.8057851239669421, 'MAE': 1.5557851239669422, 'MSE': 13.048209366391184, 'RMSE': 3.61223052508989, 'MAPE': inf}\nGradient Boosting Metrics: {'AUC': 0.9204683620676856, 'Precision': 0.7603988909533183, 'Accuracy': 0.7992424242424242, 'MAE': 1.5946969696969697, 'MSE': 13.332988980716253, 'RMSE': 3.651436563972631, 'MAPE': inf}\n",
          "output_type": "stream"
        }
      ],
      "execution_count": null
    },
    {
      "cell_type": "code",
      "source": [
        "# Train models\n",
        "models = {\n",
        "    \"Logistic Regression\": LogisticRegression(max_iter=1000),\n",
        "    \"Random Forest\": RandomForestClassifier(n_estimators=100, random_state=42),\n",
        "    \"Extra Trees\": ExtraTreesClassifier(n_estimators=100, random_state=42),\n",
        "    \"Gradient Boosting\": GradientBoostingClassifier(n_estimators=100, learning_rate=0.1, random_state=42)\n",
        "}\n",
        "\n",
        "metrics_results = {}\n",
        "\n",
        "for model_name, model in models.items():\n",
        "    model.fit(X_train_scaled if \"Logistic Regression\" in model_name else X_train, y_train)\n",
        "    metrics_results[model_name] = evaluate_model(model, X_test_scaled if \"Logistic Regression\" in model_name else X_test, y_test)\n",
        "\n",
        "# Convert results to DataFrame\n",
        "metrics_df = pd.DataFrame(metrics_results).T\n",
        "print(metrics_df)\n",
        "\n",
        "# Further Analysis\n",
        "best_model = metrics_df[\"Accuracy\"].idxmax()\n",
        "print(f\"Best model based on accuracy: {best_model}\")\n",
        "\n",
        "# Save results to CSV\n",
        "metrics_df.to_csv(\"model_performance_metrics.csv\", index=True)\n",
        "print(\"Metrics saved to 'model_performance_metrics.csv'\")"
      ],
      "metadata": {
        "trusted": true,
        "execution": {
          "iopub.status.busy": "2025-03-16T12:44:10.431042Z",
          "iopub.execute_input": "2025-03-16T12:44:10.431411Z",
          "iopub.status.idle": "2025-03-16T12:53:39.688055Z",
          "shell.execute_reply.started": "2025-03-16T12:44:10.431385Z",
          "shell.execute_reply": "2025-03-16T12:53:39.687275Z"
        },
        "id": "2VtGMAMdAN2A",
        "outputId": "196f445b-d6fe-484b-804d-3277125aa5aa"
      },
      "outputs": [
        {
          "name": "stderr",
          "text": "/usr/local/lib/python3.10/dist-packages/sklearn/linear_model/_logistic.py:458: ConvergenceWarning: lbfgs failed to converge (status=1):\nSTOP: TOTAL NO. of ITERATIONS REACHED LIMIT.\n\nIncrease the number of iterations (max_iter) or scale the data as shown in:\n    https://scikit-learn.org/stable/modules/preprocessing.html\nPlease also refer to the documentation for alternative solver options:\n    https://scikit-learn.org/stable/modules/linear_model.html#logistic-regression\n  n_iter_i = _check_optimize_result(\n",
          "output_type": "stream"
        },
        {
          "name": "stdout",
          "text": "                          AUC  Precision  Accuracy       MAE        MSE  \\\nLogistic Regression  0.889777   0.735196  0.746901  1.911846  15.668044   \nRandom Forest        0.913876   0.772028  0.810262  1.528581  12.797865   \nExtra Trees          0.908828   0.768951  0.805785  1.555785  13.048209   \nGradient Boosting    0.920468   0.760399  0.799242  1.594697  13.332989   \n\n                         RMSE  MAPE  \nLogistic Regression  3.958288   inf  \nRandom Forest        3.577410   inf  \nExtra Trees          3.612231   inf  \nGradient Boosting    3.651437   inf  \nBest model based on accuracy: Random Forest\nMetrics saved to 'model_performance_metrics.csv'\n",
          "output_type": "stream"
        }
      ],
      "execution_count": null
    },
    {
      "cell_type": "code",
      "source": [],
      "metadata": {
        "trusted": true,
        "id": "FSbD3bjpAN2A"
      },
      "outputs": [],
      "execution_count": null
    }
  ]
}